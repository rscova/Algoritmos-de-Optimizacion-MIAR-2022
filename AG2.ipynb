{
 "cells": [
  {
   "attachments": {},
   "cell_type": "markdown",
   "metadata": {},
   "source": [
    "# Actividad Guiada 2 de Algoritmos de Optimizacion\n",
    "\n",
    "Nombre: Roberto Saul Cova Rocamora <br>\n",
    "[enlace google colab] <br>\n",
    "[enlace github]"
   ]
  },
  {
   "cell_type": "code",
   "execution_count": 26,
   "metadata": {},
   "outputs": [],
   "source": [
    "import math\n",
    "import random"
   ]
  },
  {
   "attachments": {},
   "cell_type": "markdown",
   "metadata": {},
   "source": [
    "## Programacion Dinamica\n",
    "### Problema 1: Viaje por el rio"
   ]
  },
  {
   "cell_type": "code",
   "execution_count": 16,
   "metadata": {},
   "outputs": [
    {
     "data": {
      "text/plain": [
       "[[0, 5, 4, 3, inf, inf, inf],\n",
       " [inf, 0, inf, 2, 3, inf, 11],\n",
       " [inf, inf, 0, 1, inf, 4, 10],\n",
       " [inf, inf, inf, 0, 5, 6, 9],\n",
       " [inf, inf, inf, inf, 0, inf, 4],\n",
       " [inf, inf, inf, inf, inf, 0, 3],\n",
       " [inf, inf, inf, inf, inf, inf, 0]]"
      ]
     },
     "execution_count": 16,
     "metadata": {},
     "output_type": "execute_result"
    }
   ],
   "source": [
    "# Viaje por el rio\n",
    "\n",
    "TARIFAS = [\n",
    "[0,5,4,3,float(\"inf\"),float(\"inf\"),float(\"inf\")],   #desde nodo 0\n",
    "[float(\"inf\"),0,float(\"inf\"),2,3,float(\"inf\"),11],  #desde nodo 1\n",
    "[float(\"inf\"),float(\"inf\"), 0,1,float(\"inf\"),4,10], #desde nodo 2\n",
    "[float(\"inf\"),float(\"inf\"),float(\"inf\"), 0,5,6,9],\n",
    "[float(\"inf\"),float(\"inf\"), float(\"inf\"),float(\"inf\"),0,float(\"inf\"),4],\n",
    "[float(\"inf\"),float(\"inf\"), float(\"inf\"),float(\"inf\"),float(\"inf\"),0,3],\n",
    "[float(\"inf\"),float(\"inf\"),float(\"inf\"),float(\"inf\"),float(\"inf\"),float(\"inf\"),0]\n",
    "]\n",
    "\n",
    "TARIFAS"
   ]
  },
  {
   "cell_type": "code",
   "execution_count": 17,
   "metadata": {},
   "outputs": [],
   "source": [
    "def Precios(TARIFAS):\n",
    "################################################################ \n",
    "  #Total de Nodos\n",
    "  N = len(TARIFAS[0])\n",
    "  \n",
    "  #Inicialización de la tabla de precios\n",
    "  PRECIOS = [ [float(\"inf\")]*N for i in [float(\"inf\")]*N]  #n x n \n",
    "  RUTA = [ [\"\"]*N for i in [\"\"]*N]\n",
    "  \n",
    "  #Se recorren todos los nodos con dos bucles(origen - destino)\n",
    "  #  para ir construyendo la matriz de PRECIOS\n",
    "  for i in range(N-1):\n",
    "    for j in range(i+1, N):\n",
    "      MIN = TARIFAS[i][j]\n",
    "      RUTA[i][j] = i\n",
    "      \n",
    "      for k in range(i, j):\n",
    "        if PRECIOS[i][k] + TARIFAS[k][j] < MIN:\n",
    "            MIN = min(MIN, PRECIOS[i][k] + TARIFAS[k][j] )\n",
    "            RUTA[i][j] = k\n",
    "        PRECIOS[i][j] = MIN\n",
    "        \n",
    "  return PRECIOS,RUTA\n"
   ]
  },
  {
   "cell_type": "code",
   "execution_count": 18,
   "metadata": {},
   "outputs": [
    {
     "name": "stdout",
     "output_type": "stream",
     "text": [
      "PRECIOS\n",
      "[inf, 5, 4, 3, 8, 8, 11]\n",
      "[inf, inf, inf, 2, 3, 8, 7]\n",
      "[inf, inf, inf, 1, 6, 4, 7]\n",
      "[inf, inf, inf, inf, 5, 6, 9]\n",
      "[inf, inf, inf, inf, inf, inf, 4]\n",
      "[inf, inf, inf, inf, inf, inf, 3]\n",
      "[inf, inf, inf, inf, inf, inf, inf]\n",
      "\n",
      "RUTA\n",
      "['', 0, 0, 0, 1, 2, 5]\n",
      "['', '', 1, 1, 1, 3, 4]\n",
      "['', '', '', 2, 3, 2, 5]\n",
      "['', '', '', '', 3, 3, 3]\n",
      "['', '', '', '', '', 4, 4]\n",
      "['', '', '', '', '', '', 5]\n",
      "['', '', '', '', '', '', '']\n"
     ]
    }
   ],
   "source": [
    "PRECIOS,RUTA = Precios(TARIFAS)  \n",
    "#print(PRECIOS[0][6])\n",
    "\n",
    "print(\"PRECIOS\")\n",
    "for i in range(len(TARIFAS)):\n",
    "  print(PRECIOS[i])\n",
    "\n",
    "print(\"\\nRUTA\")  \n",
    "for i in range(len(TARIFAS)):\n",
    "  print(RUTA[i])"
   ]
  },
  {
   "cell_type": "code",
   "execution_count": 19,
   "metadata": {},
   "outputs": [
    {
     "name": "stdout",
     "output_type": "stream",
     "text": [
      "\n",
      "La ruta es:\n"
     ]
    },
    {
     "data": {
      "text/plain": [
       "'0,2,5'"
      ]
     },
     "execution_count": 19,
     "metadata": {},
     "output_type": "execute_result"
    }
   ],
   "source": [
    "#Calculo de la ruta usando la matriz RUTA\n",
    "def calcular_ruta(RUTA, desde, hasta):\n",
    "  if desde == RUTA[desde][hasta]:\n",
    "    return desde \n",
    "  else:\n",
    "    return str(calcular_ruta(RUTA, desde, RUTA[desde][hasta])) +  ',' + str(RUTA[desde][hasta]) \n",
    "\n",
    "print(\"\\nLa ruta es:\")  \n",
    "calcular_ruta(RUTA, 0,6)"
   ]
  },
  {
   "attachments": {},
   "cell_type": "markdown",
   "metadata": {},
   "source": [
    "## Ramificacion y Poda\n",
    "### Problema 2: Asignacion de tareas\n",
    "\n",
    "El numero de posibles soluciones es n!"
   ]
  },
  {
   "cell_type": "code",
   "execution_count": 20,
   "metadata": {},
   "outputs": [],
   "source": [
    "#Asignacion de tareas - Ramificación y Poda\n",
    "################################################################################\n",
    "#    T A R E A \n",
    "#   A\n",
    "#   G\n",
    "#   E\n",
    "#   N\n",
    "#   T\n",
    "#   E\n",
    "\n",
    "COSTES=[[11,12,18,40],\n",
    "        [14,15,13,22],\n",
    "        [11,17,19,23],\n",
    "        [17,14,20,28]]"
   ]
  },
  {
   "cell_type": "code",
   "execution_count": 21,
   "metadata": {},
   "outputs": [
    {
     "data": {
      "text/plain": [
       "11"
      ]
     },
     "execution_count": 21,
     "metadata": {},
     "output_type": "execute_result"
    }
   ],
   "source": [
    "#Calculo del valor de una solucion parcial\n",
    "def valor(S,COSTES):\n",
    "  VALOR = 0\n",
    "  for i in range(len(S)):\n",
    "    VALOR += COSTES[S[i]][i] \n",
    "  return VALOR\n",
    "\n",
    "\n",
    "\n",
    "valor((0,),COSTES)"
   ]
  },
  {
   "cell_type": "code",
   "execution_count": 22,
   "metadata": {},
   "outputs": [
    {
     "data": {
      "text/plain": [
       "68"
      ]
     },
     "execution_count": 22,
     "metadata": {},
     "output_type": "execute_result"
    }
   ],
   "source": [
    "#Coste inferior para soluciones parciales\n",
    "#  (1,3,) Se asigna la tarea 1 al agente 0 y la tarea 3 al agente 1\n",
    "\n",
    "def CI(S,COSTES):\n",
    "  VALOR = 0\n",
    "  #Valores establecidos\n",
    "  for i in range(len(S)):\n",
    "    VALOR += COSTES[i][S[i]]\n",
    "\n",
    "  #Estimacion\n",
    "  for i in range( len(S), len(COSTES)   ):\n",
    "    VALOR += min( [ COSTES[j][i] for j in range(len(S), len(COSTES))  ])\n",
    "  return VALOR\n",
    "\n",
    "def CS(S,COSTES):\n",
    "  VALOR = 0\n",
    "  #Valores establecidos\n",
    "  for i in range(len(S)):\n",
    "    VALOR += COSTES[i][S[i]]\n",
    "\n",
    "  #Estimacion\n",
    "  for i in range( len(S), len(COSTES)   ):\n",
    "    VALOR += max( [ COSTES[j][i] for j in range(len(S), len(COSTES))  ])\n",
    "  return VALOR\n",
    "\n",
    "CI((0,1),COSTES)"
   ]
  },
  {
   "cell_type": "code",
   "execution_count": 23,
   "metadata": {},
   "outputs": [],
   "source": [
    "#Genera tantos hijos como como posibilidades haya para la siguiente elemento de la tupla\n",
    "#(0,) -> (0,1), (0,2), (0,3)\n",
    "def crear_hijos(NODO, N):\n",
    "  HIJOS = []\n",
    "  for i in range(N ):\n",
    "    if i not in NODO:\n",
    "      HIJOS.append({'s':NODO +(i,)    })\n",
    "  return HIJOS"
   ]
  },
  {
   "cell_type": "code",
   "execution_count": 24,
   "metadata": {},
   "outputs": [
    {
     "data": {
      "text/plain": [
       "[{'s': (0, 1)}, {'s': (0, 2)}, {'s': (0, 3)}]"
      ]
     },
     "execution_count": 24,
     "metadata": {},
     "output_type": "execute_result"
    }
   ],
   "source": [
    "crear_hijos((0,) , 4)"
   ]
  },
  {
   "cell_type": "code",
   "execution_count": 25,
   "metadata": {},
   "outputs": [
    {
     "name": "stdout",
     "output_type": "stream",
     "text": [
      "La solucion final es: [{'s': (1, 2, 0, 3), 'ci': 64}]  en  10  iteraciones  para dimension:  4\n"
     ]
    }
   ],
   "source": [
    "def ramificacion_y_poda(COSTES):\n",
    "#Construccion iterativa de soluciones(arbol). En cada etapa asignamos un agente(ramas).\n",
    "#Nodos del grafo  { s:(1,2),CI:3,CS:5  }\n",
    "  #print(COSTES)\n",
    "  DIMENSION = len(COSTES)  \n",
    "  MEJOR_SOLUCION=tuple( i for i in range(len(COSTES)) )\n",
    "  CotaSup = valor(MEJOR_SOLUCION,COSTES)\n",
    "  #print(\"Cota Superior:\", CotaSup)\n",
    "\n",
    "  NODOS=[]\n",
    "  NODOS.append({'s':(), 'ci':CI((),COSTES)    } )\n",
    "\n",
    "  iteracion = 0\n",
    "\n",
    "  while( len(NODOS) > 0):\n",
    "    iteracion +=1\n",
    "\n",
    "    nodo_prometedor = [ min(NODOS, key=lambda x:x['ci']) ][0]['s']\n",
    "    #print(\"Nodo prometedor:\", nodo_prometedor)\n",
    "\n",
    "    #Ramificacion\n",
    "    #Se generan los hijos\n",
    "    HIJOS =[ {'s':x['s'], 'ci':CI(x['s'], COSTES)   } for x in crear_hijos(nodo_prometedor, DIMENSION) ]\n",
    "\n",
    "    #Revisamos la cota superior y nos quedamos con la mejor solucion si llegamos a una solucion final\n",
    "    NODO_FINAL = [x for x in HIJOS if len(x['s']) == DIMENSION  ]\n",
    "    if len(NODO_FINAL ) >0: \n",
    "      #print(\"\\n********Soluciones:\",  [x for x in HIJOS if len(x['s']) == DIMENSION  ] )\n",
    "      if NODO_FINAL[0]['ci'] < CotaSup:\n",
    "        CotaSup = NODO_FINAL[0]['ci']\n",
    "        MEJOR_SOLUCION = NODO_FINAL\n",
    " \n",
    "    #Poda\n",
    "    HIJOS = [x for x in HIJOS if x['ci'] < CotaSup   ]\n",
    "\n",
    "    #Añadimos los hijos \n",
    "    NODOS.extend(HIJOS) \n",
    "\n",
    "    #Eliminamos el nodo ramificado\n",
    "    NODOS =  [  x for x in NODOS if x['s'] != nodo_prometedor    ]\n",
    "   \n",
    "  print(\"La solucion final es:\" ,MEJOR_SOLUCION , \" en \" , iteracion , \" iteraciones\" , \" para dimension: \" ,DIMENSION  )\n",
    "      \n",
    "\n",
    "\n",
    "ramificacion_y_poda(COSTES)"
   ]
  },
  {
   "cell_type": "code",
   "execution_count": 49,
   "metadata": {},
   "outputs": [
    {
     "name": "stdout",
     "output_type": "stream",
     "text": [
      "La solucion final es: {'s': (3, 2, 1, 0), 'ci': 560}  en  24  iteraciones  para dimension:  4\n"
     ]
    }
   ],
   "source": [
    "import itertools\n",
    "\n",
    "def fuerza_bruta(COSTES):\n",
    "    dimension = len(COSTES)\n",
    "    mejor_valor = float('inf')\n",
    "    mejor_solucion = ()\n",
    "    iteracion = 0\n",
    "    for s in list(itertools.permutations(range(len(COSTES)))):\n",
    "        iteracion +=1\n",
    "        valor_temp = valor(s,COSTES)\n",
    "        if valor_temp < mejor_valor:\n",
    "            mejor_valor = valor_temp\n",
    "            mejor_solucion = s\n",
    "            \n",
    "    print(\"La solucion final es:\" ,{'s':mejor_solucion, 'ci':mejor_valor} , \" en \" , iteracion , \" iteraciones\" , \" para dimension: \" ,dimension  )"
   ]
  },
  {
   "cell_type": "code",
   "execution_count": 81,
   "metadata": {},
   "outputs": [],
   "source": [
    "random.seed(42)\n",
    "N = 16\n",
    "COSTES =  [[random.randint(0,1000) for j in range(N)] for i in range(N)]\n"
   ]
  },
  {
   "cell_type": "code",
   "execution_count": 67,
   "metadata": {},
   "outputs": [
    {
     "name": "stdout",
     "output_type": "stream",
     "text": [
      "La solucion final es: {'s': (9, 10, 2, 6, 7, 3, 5, 1, 4, 0, 8), 'ci': 1176}  en  39916800  iteraciones  para dimension:  11\n",
      "CPU times: total: 42.6 s\n",
      "Wall time: 44.6 s\n"
     ]
    }
   ],
   "source": [
    "%time fuerza_bruta(COSTES)"
   ]
  },
  {
   "attachments": {},
   "cell_type": "markdown",
   "metadata": {},
   "source": [
    "A partir de la dimension 11, no se puede utilizar fuerza bruta. Ya que mientras que con dimension 10 tarda ~3s, mientras que con 11 tarda ~45s"
   ]
  },
  {
   "cell_type": "code",
   "execution_count": 75,
   "metadata": {},
   "outputs": [
    {
     "name": "stdout",
     "output_type": "stream",
     "text": [
      "La solucion final es: [{'s': (9, 6, 8, 2, 4, 1, 10, 7, 5, 0, 3, 11), 'ci': 1898}]  en  20991  iteraciones  para dimension:  12\n",
      "CPU times: total: 31.6 s\n",
      "Wall time: 34.2 s\n"
     ]
    }
   ],
   "source": [
    "%time ramificacion_y_poda(COSTES)"
   ]
  },
  {
   "attachments": {},
   "cell_type": "markdown",
   "metadata": {},
   "source": [
    "Depende de la tabla propuesta, ramificacion tarda más o menos en conseguir la solución, dependiendo de cuantas soluciones tiene que explorar. Como vemos, para dimension 12 y esa matriz, tarda ~35s. En cambio, para 13 dimensiones tarde ~0.3s\n",
    "\n",
    "Para dimension 16 tarda más de 3 minutos, pero no se puede descartar, que haya otra matriz de dimension mayor, para la que pueda dar un resultado en buen tiempo."
   ]
  },
  {
   "cell_type": "code",
   "execution_count": 78,
   "metadata": {},
   "outputs": [
    {
     "name": "stdout",
     "output_type": "stream",
     "text": [
      "La solucion final es: [{'s': (1, 5, 12, 2, 9, 4, 3, 0, 7, 6, 8, 10, 11), 'ci': 1742}]  en  1847  iteraciones  para dimension:  13\n",
      "CPU times: total: 172 ms\n",
      "Wall time: 279 ms\n"
     ]
    }
   ],
   "source": [
    "%time ramificacion_y_poda(COSTES)"
   ]
  },
  {
   "cell_type": "code",
   "execution_count": 82,
   "metadata": {},
   "outputs": [
    {
     "ename": "KeyboardInterrupt",
     "evalue": "",
     "output_type": "error",
     "traceback": [
      "\u001b[1;31m---------------------------------------------------------------------------\u001b[0m",
      "\u001b[1;31mKeyboardInterrupt\u001b[0m                         Traceback (most recent call last)",
      "File \u001b[1;32m<timed eval>:1\u001b[0m\n",
      "Cell \u001b[1;32mIn[25], line 40\u001b[0m, in \u001b[0;36mramificacion_y_poda\u001b[1;34m(COSTES)\u001b[0m\n\u001b[0;32m     37\u001b[0m   NODOS\u001b[39m.\u001b[39mextend(HIJOS) \n\u001b[0;32m     39\u001b[0m   \u001b[39m#Eliminamos el nodo ramificado\u001b[39;00m\n\u001b[1;32m---> 40\u001b[0m   NODOS \u001b[39m=\u001b[39m  [  x \u001b[39mfor\u001b[39;00m x \u001b[39min\u001b[39;00m NODOS \u001b[39mif\u001b[39;00m x[\u001b[39m'\u001b[39m\u001b[39ms\u001b[39m\u001b[39m'\u001b[39m] \u001b[39m!=\u001b[39m nodo_prometedor    ]\n\u001b[0;32m     42\u001b[0m \u001b[39mprint\u001b[39m(\u001b[39m\"\u001b[39m\u001b[39mLa solucion final es:\u001b[39m\u001b[39m\"\u001b[39m ,MEJOR_SOLUCION , \u001b[39m\"\u001b[39m\u001b[39m en \u001b[39m\u001b[39m\"\u001b[39m , iteracion , \u001b[39m\"\u001b[39m\u001b[39m iteraciones\u001b[39m\u001b[39m\"\u001b[39m , \u001b[39m\"\u001b[39m\u001b[39m para dimension: \u001b[39m\u001b[39m\"\u001b[39m ,DIMENSION  )\n",
      "Cell \u001b[1;32mIn[25], line 40\u001b[0m, in \u001b[0;36m<listcomp>\u001b[1;34m(.0)\u001b[0m\n\u001b[0;32m     37\u001b[0m   NODOS\u001b[39m.\u001b[39mextend(HIJOS) \n\u001b[0;32m     39\u001b[0m   \u001b[39m#Eliminamos el nodo ramificado\u001b[39;00m\n\u001b[1;32m---> 40\u001b[0m   NODOS \u001b[39m=\u001b[39m  [  x \u001b[39mfor\u001b[39;00m x \u001b[39min\u001b[39;00m NODOS \u001b[39mif\u001b[39;00m x[\u001b[39m'\u001b[39m\u001b[39ms\u001b[39m\u001b[39m'\u001b[39m] \u001b[39m!=\u001b[39m nodo_prometedor    ]\n\u001b[0;32m     42\u001b[0m \u001b[39mprint\u001b[39m(\u001b[39m\"\u001b[39m\u001b[39mLa solucion final es:\u001b[39m\u001b[39m\"\u001b[39m ,MEJOR_SOLUCION , \u001b[39m\"\u001b[39m\u001b[39m en \u001b[39m\u001b[39m\"\u001b[39m , iteracion , \u001b[39m\"\u001b[39m\u001b[39m iteraciones\u001b[39m\u001b[39m\"\u001b[39m , \u001b[39m\"\u001b[39m\u001b[39m para dimension: \u001b[39m\u001b[39m\"\u001b[39m ,DIMENSION  )\n",
      "\u001b[1;31mKeyboardInterrupt\u001b[0m: "
     ]
    }
   ],
   "source": [
    "%time ramificacion_y_poda(COSTES)"
   ]
  }
 ],
 "metadata": {
  "kernelspec": {
   "display_name": "miar_env",
   "language": "python",
   "name": "python3"
  },
  "language_info": {
   "codemirror_mode": {
    "name": "ipython",
    "version": 3
   },
   "file_extension": ".py",
   "mimetype": "text/x-python",
   "name": "python",
   "nbconvert_exporter": "python",
   "pygments_lexer": "ipython3",
   "version": "3.10.8"
  },
  "orig_nbformat": 4,
  "vscode": {
   "interpreter": {
    "hash": "9fb6ea41b4247adaaa6e39f15474b3cb217a939b7a8bc00f9ca32c833d0438af"
   }
  }
 },
 "nbformat": 4,
 "nbformat_minor": 2
}
