{
  "cells": [
    {
      "attachments": {},
      "cell_type": "markdown",
      "metadata": {},
      "source": [
        "# Actividad Guiada 3 de Algoritmos de Optimizacion\n",
        "\n",
        "Nombre: Roberto Saul Cova Rocamora <br>\n",
        "[enlace google colab] <br>\n",
        "[enlace github]"
      ]
    },
    {
      "cell_type": "code",
      "execution_count": 2,
      "metadata": {},
      "outputs": [
        {
          "name": "stderr",
          "output_type": "stream",
          "text": [
            "\"gzip\" no se reconoce como un comando interno o externo,\n",
            "programa o archivo por lotes ejecutable.\n"
          ]
        }
      ],
      "source": [
        "import urllib.request #Hacer llamadas http a paginas de la red\n",
        "import tsplib95       #Modulo para las instancias del problema del TSP\n",
        "import math           #Modulo de funciones matematicas. Se usa para exp\n",
        "import random         #Para generar valores aleatorios\n",
        "\n",
        "#http://elib.zib.de/pub/mp-testdata/tsp/tsplib/\n",
        "#Documentacion : \n",
        "  # http://comopt.ifi.uni-heidelberg.de/software/TSPLIB95/tsp95.pdf\n",
        "  # https://tsplib95.readthedocs.io/en/stable/pages/usage.html\n",
        "  # https://tsplib95.readthedocs.io/en/v0.6.1/modules.html\n",
        "  # https://pypi.org/project/tsplib95/\n",
        "\n",
        "#Descargamos el fichero de datos(Matriz de distancias)\n",
        "file = \"swiss42.tsp\" ; \n",
        "urllib.request.urlretrieve(\"http://comopt.ifi.uni-heidelberg.de/software/TSPLIB95/tsp/swiss42.tsp.gz\", file + '.gz')\n",
        "!gzip -d swiss42.tsp.gz     #Descomprimir el fichero de datos \n",
        "\n",
        "#Coordendas 51-city problem (Christofides/Eilon)\n",
        "#file = \"eil51.tsp\" ; urllib.request.urlretrieve(\"http://comopt.ifi.uni-heidelberg.de/software/TSPLIB95/tsp/eil51.tsp.gz\", file)\n",
        "\n",
        "#Coordenadas - 48 capitals of the US (Padberg/Rinaldi)\n",
        "#file = \"att48.tsp\" ; urllib.request.urlretrieve(\"http://comopt.ifi.uni-heidelberg.de/software/TSPLIB95/tsp/att48.tsp.gz\", file)\n"
      ]
    },
    {
      "cell_type": "code",
      "execution_count": 3,
      "metadata": {},
      "outputs": [],
      "source": [
        "#Carga de datos y generación de objeto problem\n",
        "###############################################################################\n",
        "problem = tsplib95.load(file)\n",
        "\n",
        "#Nodos\n",
        "Nodos = list(problem.get_nodes())\n",
        "\n",
        "#Aristas\n",
        "Aristas = list(problem.get_edges())\n"
      ]
    },
    {
      "cell_type": "code",
      "execution_count": 4,
      "metadata": {},
      "outputs": [
        {
          "data": {
            "text/plain": [
              "15"
            ]
          },
          "execution_count": 4,
          "metadata": {},
          "output_type": "execute_result"
        }
      ],
      "source": [
        "#Distancia entre nodos\n",
        "problem.get_weight(0, 1)\n"
      ]
    },
    {
      "cell_type": "code",
      "execution_count": 5,
      "metadata": {},
      "outputs": [],
      "source": [
        "#Devuelve la distancia entre dos nodos\n",
        "def distancia(a,b, problem):\n",
        "  return problem.get_weight(a,b)\n",
        "\n",
        "#Se genera una solucion aleatoria con comienzo en en el nodo 0\n",
        "def crear_solucion(Nodos): \n",
        "  solucion = [Nodos[0]]\n",
        "  for n in Nodos[1:]:\n",
        "    solucion = solucion + [random.choice(list(set(Nodos) - set(solucion)))]\n",
        "  return solucion \n",
        "\n",
        "#Devuelve la distancia total de una trayectoria/solucion\n",
        "def distancia_total(solucion, problem):\n",
        "  distancia_total = 0\n",
        "  for i in range(len(solucion)-1):\n",
        "    distancia_total += distancia(solucion[i] ,solucion[i+1] ,  problem)\n",
        "  return distancia_total + distancia(solucion[len(solucion)-1] ,solucion[0], problem)"
      ]
    },
    {
      "cell_type": "code",
      "execution_count": 6,
      "metadata": {},
      "outputs": [
        {
          "name": "stdout",
          "output_type": "stream",
          "text": [
            "[0, 32, 14, 37, 28, 15, 11, 40, 27, 23, 8, 16, 13, 35, 4, 12, 39, 24, 2, 5, 26, 10, 21, 18, 31, 6, 34, 20, 36, 3, 25, 29, 17, 41, 1, 7, 38, 33, 19, 9, 30, 22]\n"
          ]
        },
        {
          "data": {
            "text/plain": [
              "4491"
            ]
          },
          "execution_count": 6,
          "metadata": {},
          "output_type": "execute_result"
        }
      ],
      "source": [
        "solucion = crear_solucion(Nodos)\n",
        "print(solucion)\n",
        "distancia_total(solucion, problem)"
      ]
    },
    {
      "attachments": {},
      "cell_type": "markdown",
      "metadata": {},
      "source": [
        "## Busqueda Aleatoria"
      ]
    },
    {
      "cell_type": "code",
      "execution_count": 7,
      "metadata": {},
      "outputs": [],
      "source": [
        "def busqueda_aleatoria(problem, N):\n",
        "  #N es el numero de iteraciones\n",
        "  Nodos = list(problem.get_nodes())\n",
        "  \n",
        "  mejor_solucion = []\n",
        "  mejor_distancia = float('inf')                    #Inicializamos con un valor alto\n",
        "  \n",
        "  for i in range(N):                                #Criterio de parada: repetir N veces pero podemos incluir otros\n",
        "    solucion = crear_solucion(Nodos)                #Genera una solucion aleatoria\n",
        "    distancia = distancia_total(solucion, problem)  #Calcula el valor objetivo(distancia total)\n",
        "    \n",
        "    if distancia < mejor_distancia:                 #Compara con la mejor obtenida hasta ahora\n",
        "      mejor_solucion = solucion\n",
        "      mejor_distancia = distancia\n",
        "      \n",
        "      \n",
        "  print(\"Mejor solución:\" , mejor_solucion) \n",
        "  print(\"Distancia     :\" , mejor_distancia) \n",
        "  return mejor_solucion "
      ]
    },
    {
      "cell_type": "code",
      "execution_count": 8,
      "metadata": {},
      "outputs": [
        {
          "name": "stdout",
          "output_type": "stream",
          "text": [
            "Mejor solución: [0, 20, 34, 27, 1, 28, 32, 19, 23, 38, 36, 31, 22, 18, 24, 3, 26, 41, 39, 21, 2, 10, 16, 33, 35, 14, 15, 13, 17, 37, 6, 7, 11, 12, 4, 29, 30, 40, 9, 25, 8, 5]\n",
            "Distancia     : 3766\n"
          ]
        }
      ],
      "source": [
        "    \n",
        "#Busqueda aleatoria con N iteraciones    \n",
        "solucion = busqueda_aleatoria(problem, 5000)"
      ]
    },
    {
      "cell_type": "markdown",
      "metadata": {},
      "source": [
        "## Busqueda Local"
      ]
    },
    {
      "cell_type": "code",
      "execution_count": 9,
      "metadata": {},
      "outputs": [],
      "source": [
        "def genera_vecina(solucion):\n",
        "  #Generador de soluciones vecinas: 2-opt (intercambiar 2 nodos) Si hay N nodos se generan (N-1)x(N-2)/2 soluciones\n",
        "  #Se puede modificar para aplicar otros generadores distintos que 2-opt\n",
        "  #print(solucion)\n",
        "  mejor_solucion = solucion\n",
        "  mejor_distancia = distancia_total(solucion, problem)\n",
        "  \n",
        "  for i in range(1,len(solucion)-1):          #Recorremos todos los nodos en bucle doble para evaluar todos los intercambios 2-opt\n",
        "    for j in range(i+1, len(solucion)):\n",
        "      \n",
        "      #Se genera una nueva solución intercambiando los dos nodos i,j:\n",
        "      #  (usamos el operador + que para listas en python las concatena) : ej.: [1,2] + [3] = [1,2,3]\n",
        "      vecina = solucion[:i] + [solucion[j]] + solucion[i+1:j] + [solucion[i]] + solucion[j+1:]\n",
        "      \n",
        "      #Se evalua la nueva solución ...\n",
        "      distancia_vecina = distancia_total(vecina, problem)         \n",
        "\n",
        "      #... para guardarla si mejora las anteriores\n",
        "      if distancia_vecina <= mejor_distancia:\n",
        "        mejor_distancia = distancia_vecina\n",
        "        mejor_solucion = vecina\n",
        "  return mejor_solucion\n",
        "\n"
      ]
    },
    {
      "cell_type": "code",
      "execution_count": 10,
      "metadata": {},
      "outputs": [
        {
          "name": "stdout",
          "output_type": "stream",
          "text": [
            "Distancia Solucion Incial: 3766\n",
            "Distancia Mejor Solucion Local: 3459\n"
          ]
        }
      ],
      "source": [
        "print(\"Distancia Solucion Incial:\" , distancia_total(solucion, problem))\n",
        " \n",
        "nueva_solucion = genera_vecina(solucion)\n",
        "print(\"Distancia Mejor Solucion Local:\", distancia_total(nueva_solucion, problem))"
      ]
    },
    {
      "cell_type": "code",
      "execution_count": 11,
      "metadata": {},
      "outputs": [],
      "source": [
        "#Busqueda Local:\n",
        "#  - Sobre el operador de vecindad 2-opt(funcion genera_vecina)\n",
        "#  - Sin criterio de parada, se para cuando no es posible mejorar.\n",
        "def busqueda_local(problem):\n",
        "  mejor_solucion = []\n",
        "  \n",
        "  #Generar una solucion inicial de referencia(aleatoria)\n",
        "  solucion_referencia = crear_solucion(Nodos)\n",
        "  mejor_distancia = distancia_total(solucion_referencia, problem)\n",
        "\n",
        "  iteracion=0             #Un contador para saber las iteraciones que hacemos\n",
        "  while(True):\n",
        "    iteracion +=1         #Incrementamos el contador\n",
        "\n",
        "    #Obtenemos la mejor vecina ...\n",
        "    vecina = genera_vecina(solucion_referencia)\n",
        "\n",
        "    #... y la evaluamos para ver si mejoramos respecto a lo encontrado hasta el momento\n",
        "    distancia_vecina = distancia_total(vecina, problem)\n",
        " \n",
        "    #Si no mejoramos hay que terminar. Hemos llegado a un minimo local(según nuestro operador de vencindad 2-opt)\n",
        "    if distancia_vecina < mejor_distancia:\n",
        "      #mejor_solucion = copy.deepcopy(vecina)   #Con copia profunda. Las copias en python son por referencia \n",
        "      mejor_solucion = vecina                   #Guarda la mejor solución encontrada\n",
        "      mejor_distancia = distancia_vecina\n",
        "\n",
        "    else:\n",
        "      print(\"En la iteracion \", iteracion, \", la mejor solución encontrada es:\" , mejor_solucion) \n",
        "      print(\"Distancia     :\" , mejor_distancia) \n",
        "      return mejor_solucion,mejor_distancia\n",
        "      \n",
        "    solucion_referencia = vecina"
      ]
    },
    {
      "cell_type": "code",
      "execution_count": 12,
      "metadata": {},
      "outputs": [
        {
          "name": "stdout",
          "output_type": "stream",
          "text": [
            "En la iteracion  38 , la mejor solución encontrada es: [0, 1, 6, 26, 18, 10, 41, 23, 40, 9, 2, 27, 30, 38, 22, 24, 21, 39, 29, 4, 5, 13, 19, 37, 17, 31, 32, 28, 8, 25, 11, 12, 3, 34, 33, 20, 35, 36, 15, 16, 14, 7]\n",
            "Distancia     : 1865\n"
          ]
        }
      ],
      "source": [
        "sol,_ = busqueda_local(problem)"
      ]
    },
    {
      "cell_type": "code",
      "execution_count": 13,
      "metadata": {},
      "outputs": [],
      "source": [
        "def multi_arranque(N=10):\n",
        "    mejor_dist = float('inf')\n",
        "    mejor_sol = []\n",
        "    for i in range(N):\n",
        "        sol,dist = busqueda_local(problem)\n",
        "        if dist < mejor_dist:\n",
        "            mejor_dist = dist\n",
        "            mejor_sol = sol\n",
        "\n",
        "    return mejor_sol,mejor_dist"
      ]
    },
    {
      "cell_type": "code",
      "execution_count": 14,
      "metadata": {},
      "outputs": [
        {
          "name": "stdout",
          "output_type": "stream",
          "text": [
            "En la iteracion  30 , la mejor solución encontrada es: [0, 1, 6, 5, 4, 29, 39, 22, 38, 34, 33, 20, 17, 7, 37, 36, 35, 31, 32, 30, 28, 27, 3, 2, 9, 40, 24, 21, 14, 15, 16, 19, 13, 26, 10, 8, 23, 41, 25, 11, 12, 18]\n",
            "Distancia     : 1885\n",
            "En la iteracion  35 , la mejor solución encontrada es: [0, 31, 17, 36, 35, 20, 33, 34, 32, 7, 37, 15, 16, 14, 11, 25, 41, 23, 9, 2, 27, 28, 30, 21, 40, 24, 39, 29, 5, 13, 19, 1, 3, 4, 6, 26, 18, 12, 10, 8, 22, 38]\n",
            "Distancia     : 1851\n",
            "En la iteracion  32 , la mejor solución encontrada es: [0, 30, 38, 22, 24, 40, 21, 39, 29, 28, 14, 15, 16, 19, 13, 5, 6, 1, 7, 17, 31, 32, 27, 2, 3, 4, 18, 12, 11, 25, 10, 8, 34, 33, 20, 35, 36, 37, 26, 41, 23, 9]\n",
            "Distancia     : 1872\n",
            "En la iteracion  36 , la mejor solución encontrada es: [0, 32, 34, 33, 20, 1, 6, 26, 4, 3, 2, 27, 17, 31, 35, 36, 37, 5, 41, 23, 40, 24, 21, 39, 22, 9, 8, 10, 25, 11, 12, 18, 13, 19, 14, 16, 15, 7, 28, 29, 38, 30]\n",
            "Distancia     : 1777\n",
            "En la iteracion  36 , la mejor solución encontrada es: [0, 22, 39, 21, 40, 24, 38, 28, 27, 2, 6, 5, 26, 18, 12, 11, 25, 41, 23, 9, 29, 32, 7, 14, 15, 37, 36, 35, 31, 17, 16, 19, 13, 1, 3, 4, 10, 8, 30, 34, 33, 20]\n",
            "Distancia     : 1795\n",
            "1777\n"
          ]
        }
      ],
      "source": [
        "sol, dist = multi_arranque(5)\n",
        "print(dist)"
      ]
    },
    {
      "cell_type": "markdown",
      "metadata": {},
      "source": [
        "Aplicamos busqueda en entornos variables, el cambio será proporcional a la distancia"
      ]
    },
    {
      "cell_type": "code",
      "execution_count": 15,
      "metadata": {},
      "outputs": [],
      "source": [
        "def genera_vecina(solucion):\n",
        "  #Generador de soluciones vecinas: 2-opt (intercambiar 2 nodos) Si hay N nodos se generan (N-1)x(N-2)/2 soluciones\n",
        "  #Se puede modificar para aplicar otros generadores distintos que 2-opt\n",
        "  #print(solucion)\n",
        "  mejor_solucion = solucion\n",
        "  mejor_distancia = distancia_total(solucion, problem)\n",
        "  cambio_factor = 1 if mejor_distancia//1000 < 1 else mejor_distancia//1000 # Aplicamos un factor de cambio de posiciones\n",
        "\n",
        "  for i in range(1,len(solucion)-1):          #Recorremos todos los nodos en bucle doble para evaluar todos los intercambios 2-opt\n",
        "    for j in range(i+1, len(solucion)):\n",
        "      \n",
        "      #Se genera una nueva solución intercambiando los dos nodos i,j:\n",
        "      #  (usamos el operador + que para listas en python las concatena) : ej.: [1,2] + [3] = [1,2,3]\n",
        "      vecina = solucion[:i] + solucion[j:j+cambio_factor] + solucion[i+1:j] + [solucion[i]] + solucion[j+cambio_factor:]\n",
        "\n",
        "      #Se evalua la nueva solución ...\n",
        "      distancia_vecina = distancia_total(vecina, problem)         \n",
        "\n",
        "      #... para guardarla si mejora las anteriores\n",
        "      if distancia_vecina <= mejor_distancia:\n",
        "        mejor_distancia = distancia_vecina\n",
        "        mejor_solucion = vecina\n",
        "  return mejor_solucion"
      ]
    },
    {
      "cell_type": "code",
      "execution_count": 16,
      "metadata": {},
      "outputs": [
        {
          "name": "stdout",
          "output_type": "stream",
          "text": [
            "Distancia Solucion Incial: 4940\n",
            "Distancia Mejor Solucion Local: 4497\n"
          ]
        }
      ],
      "source": [
        "#random.seed(42)\n",
        "solucion = crear_solucion(Nodos)\n",
        "print(\"Distancia Solucion Incial:\" , distancia_total(solucion, problem))\n",
        " \n",
        "nueva_solucion = genera_vecina(solucion)\n",
        "print(\"Distancia Mejor Solucion Local:\", distancia_total(nueva_solucion, problem))"
      ]
    },
    {
      "cell_type": "code",
      "execution_count": 17,
      "metadata": {},
      "outputs": [
        {
          "name": "stdout",
          "output_type": "stream",
          "text": [
            "En la iteracion  35 , la mejor solución encontrada es: [0, 3, 32, 34, 33, 20, 35, 36, 31, 17, 37, 15, 7, 1, 5, 26, 18, 25, 11, 12, 13, 19, 16, 14, 6, 4, 2, 28, 30, 38, 22, 8, 10, 41, 23, 40, 24, 21, 39, 9, 29, 27]\n",
            "Distancia     : 1591\n"
          ]
        }
      ],
      "source": [
        "#random.seed(42)\n",
        "sol,_ = busqueda_local(problem)"
      ]
    },
    {
      "attachments": {},
      "cell_type": "markdown",
      "metadata": {},
      "source": [
        "## Simulated Annealing (Enfriamiento Simulado)"
      ]
    },
    {
      "cell_type": "code",
      "execution_count": 200,
      "metadata": {},
      "outputs": [],
      "source": [
        "#Generador de 1 solucion vecina 2-opt 100% aleatoria (intercambiar 2 nodos)\n",
        "#Mejorable eligiendo otra forma de elegir una vecina.\n",
        "def genera_vecina_aleatorio(solucion):\n",
        "  #Se eligen dos nodos aleatoriamente\n",
        "  i,j = sorted(random.sample( range(1,len(solucion)) , 2))\n",
        "  #Devuelve una nueva solución pero intercambiando los dos nodos elegidos al azar\n",
        "  return solucion[:i] + [solucion[j]] + solucion[i+1:j] + [solucion[i]] + solucion[j+1:]\n",
        "\n",
        "\n",
        "#Funcion de probabilidad para aceptar peores soluciones\n",
        "def probabilidad(T,d):\n",
        "  if random.random() <  math.exp( -1*d / T)  :\n",
        "    return True\n",
        "  else:\n",
        "    return False\n",
        "\n",
        "#Funcion de descenso de temperatura\n",
        "def bajar_temperatura(T):\n",
        "  return T*0.99\n",
        "\n",
        "# Genera 1 solucion usando un nodo aleatorio e insertando al lado otro nodo aleatorio\n",
        "# entre sus 10 nodos más cercano \n",
        "def genera_vecina_aleatorio2(solucion):\n",
        "  i = random.randint(1,len(solucion)-1)\n",
        "  distances = []\n",
        "  for j in range(1,len(solucion)-1):\n",
        "    if i!=j:\n",
        "      distances.append((i,j,problem.get_weight(solucion[i],solucion[j])))\n",
        "  \n",
        "  distances = sorted(distances,key=lambda x: x[2])\n",
        "\n",
        "  i,j,_ = random.choice(distances[:20])\n",
        "  i,j = sorted([i,j])\n",
        "\n",
        "  return solucion[:i+1] + [solucion[j]] + solucion[i+1:j] + solucion[j+1:]"
      ]
    },
    {
      "cell_type": "code",
      "execution_count": 202,
      "metadata": {},
      "outputs": [],
      "source": [
        "def recocido_simulado(problem, TEMPERATURA,genera_vecina):\n",
        "  #problem = datos del problema\n",
        "  #T = Temperatura\n",
        "  \n",
        "  solucion_referencia = crear_solucion(Nodos)\n",
        "  distancia_referencia = distancia_total(solucion_referencia, problem)\n",
        "  \n",
        "  mejor_solucion = []               #x* del seudocodigo\n",
        "  mejor_distancia = float('inf')    #F* del seudocodigo\n",
        "  \n",
        "  \n",
        "  N=0\n",
        "  while TEMPERATURA > .0001:\n",
        "    N+=1\n",
        "    #Genera una solución vecina\n",
        "    vecina = genera_vecina(solucion_referencia)\n",
        "    \n",
        "    #Calcula su valor(distancia)\n",
        "    distancia_vecina = distancia_total(vecina, problem)\n",
        "      \n",
        "    #Si es la mejor solución de todas se guarda(siempre!!!)\n",
        "    if distancia_vecina < mejor_distancia:\n",
        "        mejor_solucion = vecina\n",
        "        mejor_distancia = distancia_vecina\n",
        "    \n",
        "    #Si la nueva vecina es mejor se cambia  \n",
        "    #Si es peor se cambia según una probabilidad que depende de T y delta(distancia_referencia - distancia_vecina)\n",
        "    if distancia_vecina < distancia_referencia or probabilidad(TEMPERATURA, abs(distancia_referencia - distancia_vecina)) :\n",
        "      #solucion_referencia = copy.deepcopy(vecina)\n",
        "      solucion_referencia = vecina\n",
        "      distancia_referencia = distancia_vecina\n",
        "\n",
        "    #Bajamos la temperatura\n",
        "    TEMPERATURA = bajar_temperatura(TEMPERATURA)\n",
        "    \n",
        "  print(\"La mejor solución encontrada es \" , end=\"\")\n",
        "  print(mejor_solucion)\n",
        "  print(\"con una distancia total de \" , end=\"\")\n",
        "  print(mejor_distancia)\n",
        "  return mejor_solucion"
      ]
    },
    {
      "cell_type": "code",
      "execution_count": 212,
      "metadata": {},
      "outputs": [
        {
          "name": "stdout",
          "output_type": "stream",
          "text": [
            "La mejor solución encontrada es [0, 27, 28, 29, 21, 40, 24, 38, 34, 37, 7, 1, 6, 5, 26, 18, 12, 9, 39, 22, 33, 20, 35, 36, 17, 15, 16, 4, 3, 2, 30, 32, 31, 14, 19, 13, 11, 10, 25, 23, 41, 8]\n",
            "con una distancia total de 2073\n",
            "La mejor solución encontrada es [0, 27, 2, 3, 4, 1, 6, 5, 7, 37, 15, 16, 14, 17, 31, 35, 36, 19, 13, 26, 18, 28, 29, 30, 38, 22, 39, 21, 24, 40, 23, 41, 9, 8, 10, 25, 12, 11, 32, 34, 33, 20]\n",
            "con una distancia total de 1622\n"
          ]
        }
      ],
      "source": [
        "sol  = recocido_simulado(problem, 10000000,genera_vecina_aleatorio)\n",
        "sol  = recocido_simulado(problem, 10000000,genera_vecina_aleatorio2)"
      ]
    },
    {
      "attachments": {},
      "cell_type": "markdown",
      "metadata": {},
      "source": [
        "La segunda version, que genera soluciones menos aleatorias, suele funcionar mejor que generar dos nodos puramente aleatorios"
      ]
    }
  ],
  "metadata": {
    "colab": {
      "provenance": [],
      "toc_visible": true
    },
    "kernelspec": {
      "display_name": "miar_env",
      "language": "python",
      "name": "python3"
    },
    "language_info": {
      "codemirror_mode": {
        "name": "ipython",
        "version": 3
      },
      "file_extension": ".py",
      "mimetype": "text/x-python",
      "name": "python",
      "nbconvert_exporter": "python",
      "pygments_lexer": "ipython3",
      "version": "3.10.8"
    },
    "vscode": {
      "interpreter": {
        "hash": "9fb6ea41b4247adaaa6e39f15474b3cb217a939b7a8bc00f9ca32c833d0438af"
      }
    }
  },
  "nbformat": 4,
  "nbformat_minor": 0
}
