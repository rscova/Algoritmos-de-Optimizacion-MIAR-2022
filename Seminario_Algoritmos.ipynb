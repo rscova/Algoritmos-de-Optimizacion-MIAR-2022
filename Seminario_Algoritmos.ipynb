{
  "cells": [
    {
      "attachments": {},
      "cell_type": "markdown",
      "metadata": {
        "id": "hVbXYX-RfPWh"
      },
      "source": [
        "# El problema de planificación de doblaje<br>\n",
        "Nombre: Roberto Saul Cova Rocamora   <br>\n",
        "Url: https://github.com/rscova/Algoritmos-de-Optimizacion-MIAR-2022"
      ]
    },
    {
      "attachments": {},
      "cell_type": "markdown",
      "metadata": {},
      "source": [
        "Se precisa coordinar el doblaje de una película. Los actores del doblaje deben coincidir en las  tomas en las que sus personajes aparecen juntos en las diferentes tomas. Los actores de  doblaje cobran todos la misma cantidad por cada día que deben desplazarse hasta el estudio de  grabación independientemente del número de tomas que se graben. No es posible grabar más  de 6 tomas por día. El objetivo es planificar las sesiones por día de manera que el gasto por los  servicios de los actores de doblaje sea el menor posible.\n",
        "\n",
        "Numero de tomas: 30 <br>\n",
        "Numero de actores: 10 <br>"
      ]
    },
    {
      "attachments": {},
      "cell_type": "markdown",
      "metadata": {},
      "source": [
        "### Analisis de las posibles soluciones\n",
        "El primer paso, es analizar el problema y las posibles soluciones que se van a generar para intuir que tipo de algoritmos serán más optimos para abordar este problema.\n",
        "\n",
        "Si no se tiene en cuenta ninguna restricción es extremadamente complejo, ya que podríamos grabar desde todas en 1 día, hasta en 30 días, teniendo en cuenta que no hay límite de escenas por día. Por ejemplo, se podrían grabar 29 en 1 día, y hacer la última el último día. Y así con todas las posibles combianciones.\n",
        "\n",
        "Si en vez de eso, tenemos en cuenta las restricciones de grabar 30 escenas en 5 días, con un máximo de 6 por día, hay que darse cuenta de que estamos ante un problema de combianción sin repetición.\n",
        "\n",
        "El primer día podemos grabar 6 escenas de las 30 posibles, por tanto C(30,6). El segundo día, podemos elegir 30-6 escenas, por tanto C(24,6). Y así hasta llegar al día 5, que podremos elegir 6 escenas, por tanto C(6,6). Podriamos decir que es un factorial de combinaciones teniendo en cuenta de que vamos restando 6 cada vez. Entonces:\n",
        "C(30,6) * C(24,6) * C(18,6) * C(12,6) * C(6,6) = 5.937.752.656\n",
        "\n",
        "Pero esto no está completo, ya que si nos damos cuenta de que el orden de grabación por cada día no influye, por tanto, para cada día hay que dividirlo entre 6!, por tanto:\n",
        "C(30,6) * C(24,6) * C(18,6) * C(12,6) * C(6,6) / (6!^5) = 75.287.520\n",
        "\n",
        "Ahora, si tenemos en cuenta de que da igual en qué día en concreto se graban las escenas, habría que dividir el resultado entre 5!, por tanto:\n",
        "C(30,6) * C(24,6) * C(18,6) * C(12,6) * C(6,6) / (6!^5 * 5!) = 49.481.272\n",
        "\n",
        "Aunque hemos ido acontando el numero total de soluciones con las restriciones, el total de soluciones es demasiado grande para poder resolverlo por algoritmos de busqueda exhaustiva, como puede ser Vuelta atrás o fuerza bruta.\n",
        "\n"
      ]
    },
    {
      "attachments": {},
      "cell_type": "markdown",
      "metadata": {},
      "source": [
        "### Modelizacion del problema\n",
        "\n",
        "Nos encontramos ante un problema de búsqueda de las soluciones para minimizar el coste de grabar todas las sesiones de doblaje.\n",
        "\n",
        "Dadas las restricciones del problema, una buena aproximación para modelizar el espacio de soluciones sería implementar arrays de arrays. Si lo llevamos a código Python, serían lista de listas. En concreto una una lista (solución) de 5 listas (días) de 6 elementos cada una (tomas por día).\n",
        "\n",
        "En este problema en particular, y para hacer más sencilla la selección y el cruce, he considerado que un individuo es completo cuando tiene su genoma y su aptitud por tanto, la estructura de datos que he utilizado es una tupla que contiene como primer elemento la aptitud (coste de esa solucion) y los cromosomas (la solución). Y la poblacion se obtiene como una lista ordenada segun el primer elemento de la tupla.\n"
      ]
    },
    {
      "attachments": {},
      "cell_type": "markdown",
      "metadata": {},
      "source": [
        "### Diseño del algoritmo"
      ]
    },
    {
      "attachments": {},
      "cell_type": "markdown",
      "metadata": {
        "id": "70rDgxYXkC8r"
      },
      "source": [
        "**Fuerza Bruta**\n",
        "\n",
        "Diseñar un algoritmo que calcule por fuerza bruta todas las posibles combinaciones, es decir, realizar una busqueda exhaustiva, con 30 tomas de grabación restringiendo el problema a 5 días de grabación y 6 tomas por día tiene un coste exponencial, por tanto, para nuestro problema es inviable utilizar fuerza bruta.\n",
        "\n",
        "Los pasos a seguir sería:\n",
        "1. Generar todas las permutaciones posibles de las escenas y asignarlas a cada uno de los días, y luego asignar a cada actor las escenas correspondientes.\n",
        "2. Calcular el coste total de cada una de las posibles soluciones\n",
        "3. Quedarse con la de menor coste\n",
        "\n",
        "La complejidad del algoritmo por fuerza bruta es factorial O(n!) donde n es el número de tomas totales, 30."
      ]
    },
    {
      "attachments": {},
      "cell_type": "markdown",
      "metadata": {},
      "source": [
        "**Algoritmo Genético**\n",
        "\n",
        "Los algoritmos genéticos son algoritmos de búsqueda que se inspiran en la evolución biológica y utilizan técnicas de selección, reproducción y mutación para explorar y explotar el espacio de búsqueda de soluciones.\n",
        "\n",
        "Dado que tienen un buen balance entre intensifición y diversificación, pueden ayudar a encontrar una solución óptima o aproximada para este problema.\n",
        "\n",
        "Para los datos de entrada, voy a utilizar una matriz de NumPy, donde las filas son las tomas, y las columnas son los actores (30,10). En cada pareja fila, colummna hay un 1 si el actor participa en la toma, y un 0 en caso contrario.\n",
        "\n",
        "En una primera versión utilize dataframes de Pandas, pero he consegido una versión más eficiente con Numpy. Lo mismo ocurre con como se ordena la poblacion. En una primera versión utilicé colas de priorirdad de la librería queue de Python y para la versión final me he decantado por usar una lista ordenada, pues al final es más eficiente y más sencillo.\n",
        "\n",
        "La complejidad de este algoritmo es O(m * nlog(n)) donde m es el numero de generaciones y n el tamaño de la poblacion. Hay que tener en cuenta que segun mi implementación, es en la funcion *reproduccion()* el cuello de botella y donde se da esta complejidad ya se generan 4 hijos por cada par de padres, y sabiendo que nlogn se obtiene al ordenar la lista de la poblacion, realmente en el peor caso tendríamos 5nlog(5n), dicha constante, hace que el tiempo de ejecución suba"
      ]
    },
    {
      "cell_type": "code",
      "execution_count": 1,
      "metadata": {},
      "outputs": [],
      "source": [
        "import numpy as np\n",
        "import random\n",
        "from copy import deepcopy\n"
      ]
    },
    {
      "cell_type": "code",
      "execution_count": 2,
      "metadata": {},
      "outputs": [],
      "source": [
        "problema = np.array([[1, 1, 1, 1, 1, 0, 0, 0, 0, 0],\n",
        "                    [0, 0, 1, 1, 1, 0, 0, 0, 0, 0],\n",
        "                    [0, 1, 0, 0, 1, 0, 1, 0, 0, 0],\n",
        "                    [1, 1, 0, 0, 0, 0, 1, 1, 0, 0],\n",
        "                    [0, 1, 0, 1, 0, 0, 0, 1, 0, 0],\n",
        "                    [1, 1, 0, 1, 1, 0, 0, 0, 0, 0],\n",
        "                    [1, 1, 0, 1, 1, 0, 0, 0, 0, 0],\n",
        "                    [1, 1, 0, 0, 0, 1, 0, 0, 0, 0],\n",
        "                    [1, 1, 0, 1, 0, 0, 0, 0, 0, 0],\n",
        "                    [1, 1, 0, 0, 0, 1, 0, 0, 1, 0],\n",
        "                    [1, 1, 1, 0, 1, 0, 0, 1, 0, 0],\n",
        "                    [1, 1, 1, 1, 0, 1, 0, 0, 0, 0],\n",
        "                    [1, 0, 0, 1, 1, 0, 0, 0, 0, 0],\n",
        "                    [1, 0, 1, 0, 0, 1, 0, 0, 0, 0],\n",
        "                    [1, 1, 0, 0, 0, 0, 1, 0, 0, 0],\n",
        "                    [0, 0, 0, 1, 0, 0, 0, 0, 0, 1],\n",
        "                    [1, 0, 1, 0, 0, 0, 0, 0, 0, 0],\n",
        "                    [0, 0, 1, 0, 0, 1, 0, 0, 0, 0],\n",
        "                    [1, 0, 1, 0, 0, 0, 0, 0, 0, 0],\n",
        "                    [1, 0, 1, 1, 1, 0, 0, 0, 0, 0],\n",
        "                    [0, 0, 0, 0, 0, 1, 0, 1, 0, 0],\n",
        "                    [1, 1, 1, 1, 0, 0, 0, 0, 0, 0],\n",
        "                    [1, 0, 1, 0, 0, 0, 0, 0, 0, 0],\n",
        "                    [0, 0, 1, 0, 0, 1, 0, 0, 0, 0],\n",
        "                    [1, 1, 0, 1, 0, 0, 0, 0, 0, 1],\n",
        "                    [1, 0, 1, 0, 1, 0, 0, 0, 1, 0],\n",
        "                    [0, 0, 0, 1, 1, 0, 0, 0, 0, 0],\n",
        "                    [1, 0, 0, 1, 0, 0, 0, 0, 0, 0],\n",
        "                    [1, 0, 0, 0, 1, 1, 0, 0, 0, 0],\n",
        "                    [1, 0, 0, 1, 0, 0, 0, 0, 0, 0]])"
      ]
    },
    {
      "cell_type": "code",
      "execution_count": 3,
      "metadata": {},
      "outputs": [],
      "source": [
        "# Crear un individo aleatorio\n",
        "def generar_individuo(problema):\n",
        "    tomas = random.sample(range(30),30)\n",
        "    cromosomas = [sorted(tomas[:6]),sorted(tomas[6:12]),sorted(tomas[12:18]),sorted(tomas[18:24]),sorted(tomas[24:30])]\n",
        "    return (aptitud(cromosomas,problema),sorted(cromosomas))\n",
        "\n",
        "# Devuelve True si un individuo es factible\n",
        "def es_factible(individuo):\n",
        "    if len(set(individuo[0]+individuo[1]+individuo[2]+individuo[3]+individuo[4])) != 30:\n",
        "        return False\n",
        "    if len(individuo) != 5:\n",
        "        return False\n",
        "    for cromosoma in individuo:\n",
        "        if len(cromosoma) != 6:\n",
        "            return False\n",
        "    return True\n",
        "\n",
        "# Calcula la aptitud de cada cromosoma\n",
        "def aptitud(cromosomas,problema):\n",
        "    coste = 0\n",
        "    for cromosoma in cromosomas:\n",
        "        coste += sum((np.sum(problema[cromosoma,:],axis=0,dtype=bool)))\n",
        "    return coste\n",
        "\n",
        "# Genera una poblacion aleatoria\n",
        "def generar_poblacion(tam_poblacion,problema):\n",
        "    poblacion = []\n",
        "    for _ in range(tam_poblacion):\n",
        "        poblacion.append(generar_individuo(problema))\n",
        "    poblacion.sort(key=lambda x: x[0], reverse=False)\n",
        "    return poblacion"
      ]
    },
    {
      "cell_type": "code",
      "execution_count": 4,
      "metadata": {},
      "outputs": [
        {
          "name": "stdout",
          "output_type": "stream",
          "text": [
            "(35, [[0, 2, 4, 17, 20, 28], [1, 9, 19, 21, 23, 25], [3, 6, 11, 13, 14, 16], [5, 7, 8, 15, 24, 27], [10, 12, 18, 22, 26, 29]])\n"
          ]
        }
      ],
      "source": [
        "poblacion = generar_poblacion(100,problema)\n",
        "print(poblacion[0])"
      ]
    },
    {
      "cell_type": "code",
      "execution_count": 5,
      "metadata": {},
      "outputs": [],
      "source": [
        "def seleccionar(poblacion,tam_poblacion,elitismo):\n",
        "    n_elite = int(tam_poblacion*elitismo)\n",
        "\n",
        "    # Cogemos los n mejores\n",
        "    poblacion_elite = poblacion[:n_elite]\n",
        "\n",
        "    # Cogemos los m por ruleta ordenados\n",
        "    poblacion_random = random.sample(poblacion[n_elite:],(tam_poblacion-n_elite)) #sorted(random.sample(poblacion[n_elite:],(tam_poblacion-n_elite)))\n",
        "\n",
        "    return (poblacion_elite+poblacion_random)"
      ]
    },
    {
      "cell_type": "code",
      "execution_count": 6,
      "metadata": {},
      "outputs": [
        {
          "name": "stdout",
          "output_type": "stream",
          "text": [
            "(35, [[0, 2, 4, 17, 20, 28], [1, 9, 19, 21, 23, 25], [3, 6, 11, 13, 14, 16], [5, 7, 8, 15, 24, 27], [10, 12, 18, 22, 26, 29]])\n",
            "(35, [[0, 2, 3, 6, 26, 27], [1, 7, 13, 14, 18, 20], [4, 8, 10, 15, 24, 25], [5, 12, 16, 19, 21, 22], [9, 11, 17, 23, 28, 29]])\n",
            "(36, [[0, 1, 5, 15, 21, 24], [2, 3, 4, 10, 17, 25], [6, 11, 13, 18, 27, 29], [7, 9, 12, 16, 20, 28], [8, 14, 19, 22, 23, 26]])\n",
            "(36, [[0, 4, 10, 15, 18, 20], [1, 7, 8, 19, 21, 23], [2, 12, 16, 26, 28, 29], [3, 5, 6, 9, 14, 25], [11, 13, 17, 22, 24, 27]])\n",
            "(36, [[0, 12, 13, 16, 17, 28], [1, 7, 10, 18, 27, 29], [2, 5, 14, 22, 25, 26], [3, 4, 9, 11, 19, 20], [6, 8, 15, 21, 23, 24]])\n",
            "(36, [[0, 2, 3, 6, 11, 24], [1, 4, 9, 10, 12, 25], [5, 15, 16, 23, 26, 29], [7, 13, 17, 20, 22, 28], [8, 14, 18, 19, 21, 27]])\n",
            "(36, [[0, 1, 8, 12, 22, 25], [2, 13, 14, 17, 21, 26], [3, 4, 7, 11, 27, 29], [5, 6, 9, 10, 19, 24], [15, 16, 18, 20, 23, 28]])\n",
            "(37, [[0, 6, 8, 12, 24, 28], [1, 2, 7, 16, 19, 25], [3, 13, 17, 18, 20, 29], [4, 5, 10, 14, 15, 21], [9, 11, 22, 23, 26, 27]])\n",
            "(39, [[0, 2, 4, 14, 16, 21], [1, 6, 13, 24, 25, 29], [3, 9, 15, 19, 22, 27], [5, 7, 10, 11, 23, 28], [8, 12, 17, 18, 20, 26]])\n",
            "(40, [[0, 7, 10, 19, 21, 24], [1, 11, 12, 20, 22, 27], [2, 6, 9, 15, 16, 29], [3, 4, 5, 13, 18, 23], [8, 14, 17, 25, 26, 28]])\n"
          ]
        }
      ],
      "source": [
        "poblacion_elite = seleccionar(poblacion,10,0.7)\n",
        "\n",
        "for ind in poblacion_elite:\n",
        "    print(ind)"
      ]
    },
    {
      "cell_type": "code",
      "execution_count": 7,
      "metadata": {},
      "outputs": [],
      "source": [
        "def factibilizar(cromosoma):\n",
        "    tomas = []\n",
        "    # Obtenemos las tomas sin repetir\n",
        "    [tomas.append(toma) for dia in cromosoma for toma in dia if toma not in tomas]\n",
        "    # Obtenemos las tomas no repetidas y las mezclamos\n",
        "    no_tomas = list(set(range(30))-set(tomas))\n",
        "    random.shuffle(no_tomas)\n",
        "    # Unimos las listas\n",
        "    tomas = tomas + no_tomas\n",
        "    # Creamos un cromosoma valido\n",
        "    return [tomas[:6],tomas[6:12],tomas[12:18],tomas[18:24],tomas[24:30]]\n",
        "\n",
        "def mutar(cromosoma,mutacion):\n",
        "    # Intercambia los valores\n",
        "    if random.uniform(0,1) <= mutacion:\n",
        "        # Obtiene los indices de mutacion aleatorios\n",
        "        i,j = random.sample(range(5),2)\n",
        "        k,l = random.sample(range(6),2)\n",
        "        cromosoma[i][k],cromosoma[j][l] = cromosoma[j][l],cromosoma[i][k]\n",
        "\n",
        "    # Ordenar para obtener el cromosoma ordenado y poder compararlo\n",
        "    for i in range(len(cromosoma)):\n",
        "        cromosoma[i].sort()\n",
        "    cromosoma.sort()\n",
        "    \n",
        "    return cromosoma\n",
        "\n",
        "def generar_descendientes(padres,mutacion,problema):\n",
        "    cromosomas = []\n",
        "    descendencia = []\n",
        "    p_corte = random.randint(1,4)\n",
        "    # Genera 4 hijos usando un punto de corte aleatorio para mezclar los genes de los padres\n",
        "    cromosomas.append(padres[0][1][:p_corte] + padres[1][1][p_corte:])\n",
        "    cromosomas.append(padres[1][1][:p_corte] + padres[0][1][p_corte:])\n",
        "    cromosomas.append(padres[0][1][p_corte:] + padres[1][1][:p_corte])\n",
        "    cromosomas.append(padres[1][1][p_corte:] + padres[0][1][:p_corte])\n",
        "\n",
        "    for i in range(4):\n",
        "        cromosoma = factibilizar(cromosomas[i])\n",
        "        cromosoma = mutar(cromosoma,mutacion)\n",
        "        descendencia.append((aptitud(cromosoma,problema),cromosoma))\n",
        "    return descendencia\n",
        "\n",
        "\n",
        "def reproduccion(poblacion,mutacion,problema):\n",
        "    poblacion_completa = deepcopy(poblacion)\n",
        "    tam_poblacion = len(poblacion)\n",
        "    # Genera los hijos a través de reproduccion aleatoria\n",
        "    for i in range(tam_poblacion):\n",
        "        padres = random.sample(poblacion,2)\n",
        "        descendencia = generar_descendientes(padres,mutacion,problema)\n",
        "\n",
        "        # Añade los hijos a la poblacion y evita soluciones repetidas\n",
        "        for descendiente in descendencia:\n",
        "            if descendiente not in poblacion_completa:\n",
        "                poblacion_completa.append(descendiente)\n",
        "    \n",
        "\n",
        "    poblacion_completa.sort(key=lambda x: x[0], reverse=False)\n",
        "\n",
        "    return poblacion_completa"
      ]
    },
    {
      "cell_type": "code",
      "execution_count": 8,
      "metadata": {},
      "outputs": [
        {
          "name": "stdout",
          "output_type": "stream",
          "text": [
            "(35, [[0, 2, 4, 17, 20, 28], [1, 9, 19, 21, 23, 25], [3, 6, 11, 13, 14, 16], [5, 7, 8, 15, 24, 27], [10, 12, 18, 22, 26, 29]])\n",
            "(35, [[0, 2, 3, 6, 26, 27], [1, 7, 13, 14, 18, 20], [4, 8, 10, 15, 24, 25], [5, 12, 16, 19, 21, 22], [9, 11, 17, 23, 28, 29]])\n",
            "(35, [[0, 1, 5, 15, 21, 24], [2, 8, 12, 17, 20, 26], [3, 4, 6, 10, 18, 25], [7, 9, 11, 13, 27, 29], [14, 16, 19, 22, 23, 28]])\n",
            "(36, [[0, 1, 5, 15, 21, 24], [2, 3, 4, 10, 17, 25], [6, 11, 13, 18, 27, 29], [7, 9, 12, 16, 20, 28], [8, 14, 19, 22, 23, 26]])\n",
            "(36, [[0, 4, 10, 15, 18, 20], [1, 7, 8, 19, 21, 23], [2, 12, 16, 26, 28, 29], [3, 5, 6, 9, 14, 25], [11, 13, 17, 22, 24, 27]])\n",
            "(36, [[0, 12, 13, 16, 17, 28], [1, 7, 10, 18, 27, 29], [2, 5, 14, 22, 25, 26], [3, 4, 9, 11, 19, 20], [6, 8, 15, 21, 23, 24]])\n",
            "(36, [[0, 2, 3, 6, 11, 24], [1, 4, 9, 10, 12, 25], [5, 15, 16, 23, 26, 29], [7, 13, 17, 20, 22, 28], [8, 14, 18, 19, 21, 27]])\n",
            "(36, [[0, 1, 8, 12, 22, 25], [2, 13, 14, 17, 21, 26], [3, 4, 7, 11, 27, 29], [5, 6, 9, 10, 19, 24], [15, 16, 18, 20, 23, 28]])\n",
            "(36, [[0, 7, 13, 16, 28, 29], [1, 10, 12, 17, 18, 27], [2, 5, 14, 22, 25, 26], [3, 4, 9, 11, 19, 20], [6, 8, 15, 21, 23, 24]])\n",
            "(36, [[0, 1, 5, 15, 21, 24], [2, 3, 4, 10, 17, 25], [6, 13, 18, 19, 27, 29], [7, 9, 12, 16, 20, 28], [8, 11, 14, 22, 23, 26]])\n",
            "(36, [[0, 2, 4, 17, 20, 28], [1, 9, 19, 21, 23, 25], [3, 6, 7, 13, 18, 26], [5, 8, 10, 12, 15, 24], [11, 14, 16, 22, 27, 29]])\n",
            "(36, [[0, 1, 2, 20, 26, 27], [3, 6, 7, 13, 14, 18], [4, 8, 10, 15, 24, 25], [5, 12, 16, 19, 21, 22], [9, 11, 17, 23, 28, 29]])\n",
            "(36, [[0, 1, 7, 14, 20, 27], [2, 3, 6, 13, 18, 26], [4, 8, 10, 15, 24, 25], [5, 12, 16, 19, 21, 22], [9, 11, 17, 23, 28, 29]])\n",
            "(37, [[0, 6, 8, 12, 24, 28], [1, 2, 7, 16, 19, 25], [3, 13, 17, 18, 20, 29], [4, 5, 10, 14, 15, 21], [9, 11, 22, 23, 26, 27]])\n",
            "(37, [[0, 2, 4, 14, 16, 21], [1, 6, 19, 24, 25, 29], [3, 9, 13, 15, 22, 27], [5, 7, 10, 11, 23, 28], [8, 12, 17, 18, 20, 26]])\n",
            "(37, [[0, 1, 2, 13, 22, 25], [3, 4, 7, 11, 14, 21], [5, 6, 9, 10, 27, 29], [8, 12, 17, 18, 20, 26], [15, 16, 19, 23, 24, 28]])\n",
            "(37, [[0, 1, 2, 4, 14, 21], [3, 5, 6, 13, 24, 29], [7, 9, 19, 22, 25, 27], [8, 10, 11, 12, 17, 26], [15, 16, 18, 20, 23, 28]])\n",
            "(37, [[0, 12, 13, 16, 17, 28], [1, 7, 10, 18, 27, 29], [2, 6, 8, 14, 19, 21], [3, 4, 9, 11, 24, 25], [5, 15, 20, 22, 23, 26]])\n",
            "(37, [[0, 2, 3, 6, 11, 24], [1, 4, 9, 10, 12, 25], [5, 14, 19, 20, 22, 26], [7, 16, 17, 18, 28, 29], [8, 13, 15, 21, 23, 27]])\n",
            "(37, [[0, 1, 4, 10, 11, 12], [2, 3, 6, 9, 19, 24], [5, 15, 16, 23, 26, 29], [7, 13, 17, 20, 22, 28], [8, 14, 18, 21, 25, 27]])\n",
            "(37, [[0, 7, 10, 19, 21, 24], [1, 5, 15, 18, 22, 26], [2, 3, 4, 6, 17, 25], [8, 12, 14, 16, 20, 28], [9, 11, 13, 23, 27, 29]])\n",
            "(37, [[0, 1, 5, 15, 21, 24], [2, 6, 11, 20, 22, 27], [3, 4, 9, 12, 16, 29], [7, 10, 19, 25, 26, 28], [8, 13, 14, 17, 18, 23]])\n",
            "(37, [[0, 2, 13, 14, 17, 26], [1, 8, 12, 21, 22, 25], [3, 4, 7, 11, 27, 29], [5, 6, 9, 10, 15, 23], [16, 18, 19, 20, 24, 28]])\n",
            "(37, [[0, 1, 2, 8, 18, 25], [3, 7, 13, 16, 17, 29], [4, 5, 10, 14, 15, 21], [6, 12, 19, 20, 24, 28], [9, 11, 22, 23, 26, 27]])\n",
            "(38, [[0, 12, 13, 16, 17, 28], [1, 3, 6, 24, 25, 29], [2, 4, 14, 20, 21, 26], [5, 9, 15, 19, 22, 27], [7, 8, 10, 11, 18, 23]])\n",
            "(38, [[0, 2, 4, 14, 16, 21], [1, 7, 10, 18, 27, 29], [3, 5, 9, 22, 25, 26], [6, 8, 11, 15, 19, 20], [12, 13, 17, 23, 24, 28]])\n",
            "(38, [[0, 2, 3, 6, 26, 27], [1, 7, 13, 14, 18, 20], [4, 19, 21, 23, 25, 28], [5, 8, 11, 15, 24, 29], [9, 10, 12, 16, 17, 22]])\n",
            "(38, [[0, 1, 2, 9, 20, 21], [3, 6, 11, 14, 16, 27], [4, 17, 19, 23, 25, 28], [5, 7, 8, 13, 15, 24], [10, 12, 18, 22, 26, 29]])\n",
            "(38, [[0, 2, 4, 14, 16, 21], [1, 6, 13, 24, 25, 29], [3, 5, 9, 15, 18, 23], [7, 8, 17, 19, 26, 28], [10, 11, 12, 20, 22, 27]])\n",
            "(38, [[0, 1, 15, 21, 24, 25], [2, 4, 6, 13, 14, 16], [3, 9, 19, 22, 27, 29], [5, 7, 10, 11, 23, 28], [8, 12, 17, 18, 20, 26]])\n",
            "(39, [[0, 2, 4, 14, 16, 21], [1, 6, 13, 24, 25, 29], [3, 9, 15, 19, 22, 27], [5, 7, 10, 11, 23, 28], [8, 12, 17, 18, 20, 26]])\n",
            "(39, [[0, 7, 10, 19, 21, 24], [1, 12, 17, 20, 22, 27], [2, 6, 9, 15, 16, 29], [3, 4, 5, 13, 18, 23], [8, 11, 14, 25, 26, 28]])\n",
            "(39, [[0, 2, 3, 6, 26, 27], [1, 7, 13, 14, 18, 20], [4, 5, 9, 15, 16, 29], [8, 17, 23, 24, 25, 28], [10, 11, 12, 19, 21, 22]])\n",
            "(39, [[0, 1, 7, 11, 20, 27], [2, 6, 9, 15, 16, 29], [3, 4, 5, 13, 18, 23], [8, 14, 17, 25, 26, 28], [10, 12, 19, 21, 22, 24]])\n",
            "(39, [[0, 1, 7, 21, 22, 24], [2, 6, 9, 15, 16, 29], [3, 4, 5, 13, 18, 23], [8, 14, 17, 25, 26, 28], [10, 11, 12, 19, 20, 27]])\n",
            "(39, [[0, 7, 10, 11, 21, 24], [1, 12, 19, 20, 22, 27], [2, 6, 9, 15, 16, 29], [3, 4, 5, 13, 18, 23], [8, 14, 17, 25, 26, 28]])\n",
            "(39, [[0, 7, 10, 19, 21, 24], [1, 2, 6, 11, 22, 27], [3, 4, 9, 15, 16, 29], [5, 13, 14, 23, 25, 28], [8, 12, 17, 18, 20, 26]])\n",
            "(39, [[0, 1, 2, 4, 16, 21], [3, 6, 9, 13, 24, 29], [5, 7, 15, 19, 22, 27], [8, 14, 17, 25, 26, 28], [10, 11, 12, 18, 20, 23]])\n",
            "(39, [[0, 1, 2, 7, 8, 12], [3, 13, 17, 25, 26, 29], [4, 11, 14, 21, 22, 27], [5, 6, 9, 10, 19, 24], [15, 16, 18, 20, 23, 28]])\n",
            "(40, [[0, 7, 10, 19, 21, 24], [1, 11, 12, 20, 22, 27], [2, 6, 9, 15, 16, 29], [3, 4, 5, 13, 18, 23], [8, 14, 17, 25, 26, 28]])\n",
            "(40, [[0, 5, 7, 9, 10, 27], [1, 2, 4, 15, 16, 21], [3, 6, 13, 24, 25, 29], [8, 14, 19, 22, 23, 26], [11, 12, 17, 18, 20, 28]])\n",
            "(40, [[0, 7, 10, 19, 21, 24], [1, 6, 13, 14, 18, 26], [2, 11, 12, 20, 22, 27], [3, 9, 17, 23, 28, 29], [4, 5, 8, 15, 16, 25]])\n",
            "(40, [[0, 7, 10, 19, 21, 24], [1, 11, 12, 20, 22, 27], [2, 4, 6, 16, 25, 29], [3, 5, 9, 15, 23, 28], [8, 13, 14, 17, 18, 26]])\n",
            "(40, [[0, 6, 8, 12, 24, 28], [1, 2, 7, 16, 19, 25], [3, 5, 17, 18, 20, 29], [4, 11, 21, 22, 26, 27], [9, 10, 13, 14, 15, 23]])\n",
            "44\n"
          ]
        }
      ],
      "source": [
        "poblacion_completa = reproduccion(poblacion_elite,0.4,problema)\n",
        "\n",
        "for ind in poblacion_completa:\n",
        "    print(ind)\n",
        "\n",
        "print(len(poblacion_completa))"
      ]
    },
    {
      "cell_type": "code",
      "execution_count": 41,
      "metadata": {},
      "outputs": [],
      "source": [
        "def convergencia(poblacion):\n",
        "    coste_medio = 0\n",
        "    tam_poblacion = len(poblacion)\n",
        "    for ind in poblacion:\n",
        "        coste_medio += ind[0]\n",
        "    return coste_medio/tam_poblacion\n",
        "    \n",
        "\n",
        "def algoritmo_genetico(problema,tam_poblacion=1_000,generaciones=100,elitismo=0.7,mutacion=0.8,generacion_print=1):\n",
        "    print(\"Tamaño poblacion: \",tam_poblacion,\"  Elitismo: \",elitismo, \" Mutacion: \", mutacion)\n",
        "\n",
        "    # Generamos la poblacion al azar\n",
        "    poblacion = generar_poblacion(tam_poblacion,problema)\n",
        "\n",
        "    for generacion in range(generaciones):\n",
        "        # Selecion de la poblacion para quedarse con N individuos segun el elitimismo y ruleta\n",
        "        poblacion = seleccionar(poblacion,tam_poblacion,elitismo)\n",
        "        # Calculamos la convergencia de la poblacion\n",
        "        coste_medio = convergencia(poblacion)\n",
        "        # Cruzamos la poblacion\n",
        "        poblacion = reproduccion(poblacion,mutacion,problema)\n",
        "        \n",
        "        if generacion % generacion_print == 0:\n",
        "            print(\"Generacion #\",generacion,\"Convergencia de la generacion: \", coste_medio)\n",
        "            print(\"  Mejor solucion: \", poblacion[0])\n",
        "        \n",
        "    print(\"Generacion #\",generacion,\"Convergencia de la generacion: \", coste_medio)\n",
        "    print(\"  Mejor solucion: \", poblacion[0])\n",
        "    return poblacion"
      ]
    },
    {
      "attachments": {},
      "cell_type": "markdown",
      "metadata": {},
      "source": [
        "Algo que me ha sido muy útil a la hora de analizar que sucede con la población a parte de saber el mejor individuo es saber como van evolucionando los demás individuos en general. Esto lo hago a través de la función *convergencia()* que me devuelve el coste medio de toda la poblacion una vez se ha realizado la selección. \n",
        "\n",
        "El siguiente código ejecuta la el algoritmo genético."
      ]
    },
    {
      "cell_type": "code",
      "execution_count": 42,
      "metadata": {},
      "outputs": [
        {
          "name": "stdout",
          "output_type": "stream",
          "text": [
            "Tamaño poblacion:  500   Elitismo:  0.7  Mutacion:  0.8\n",
            "Generacion # 0 Convergencia de la generacion:  38.176\n",
            "  Mejor solucion:  (33, [[0, 1, 5, 8, 12, 16], [2, 3, 4, 7, 14, 20], [6, 15, 22, 24, 25, 27], [9, 17, 18, 19, 21, 29], [10, 11, 13, 23, 26, 28]])\n",
            "Generacion # 10 Convergencia de la generacion:  32.086\n",
            "  Mejor solucion:  (29, [[0, 1, 2, 5, 6, 12], [3, 4, 14, 15, 24, 27], [7, 8, 20, 26, 28, 29], [9, 10, 11, 19, 21, 25], [13, 16, 17, 18, 22, 23]])\n",
            "Generacion # 20 Convergencia de la generacion:  30.658\n",
            "  Mejor solucion:  (28, [[0, 1, 2, 3, 10, 14], [4, 7, 8, 20, 27, 28], [5, 9, 11, 19, 21, 25], [6, 12, 15, 24, 26, 29], [13, 16, 17, 18, 22, 23]])\n",
            "Generacion # 30 Convergencia de la generacion:  29.978\n",
            "  Mejor solucion:  (28, [[0, 1, 2, 3, 10, 14], [4, 7, 8, 20, 27, 28], [5, 9, 11, 19, 21, 25], [6, 12, 15, 24, 26, 29], [13, 16, 17, 18, 22, 23]])\n",
            "Generacion # 40 Convergencia de la generacion:  29.718\n",
            "  Mejor solucion:  (27, [[0, 1, 11, 19, 21, 29], [2, 3, 4, 12, 14, 26], [5, 6, 8, 15, 24, 27], [7, 9, 10, 20, 25, 28], [13, 16, 17, 18, 22, 23]])\n",
            "Generacion # 50 Convergencia de la generacion:  29.154\n",
            "  Mejor solucion:  (27, [[0, 1, 11, 19, 21, 29], [2, 3, 4, 12, 14, 26], [5, 6, 8, 15, 24, 27], [7, 9, 10, 20, 25, 28], [13, 16, 17, 18, 22, 23]])\n",
            "Generacion # 60 Convergencia de la generacion:  29.028\n",
            "  Mejor solucion:  (27, [[0, 1, 11, 19, 21, 29], [2, 3, 4, 12, 14, 26], [5, 6, 8, 15, 24, 27], [7, 9, 10, 20, 25, 28], [13, 16, 17, 18, 22, 23]])\n",
            "Generacion # 70 Convergencia de la generacion:  29.032\n",
            "  Mejor solucion:  (27, [[0, 1, 11, 19, 21, 29], [2, 3, 4, 12, 14, 26], [5, 6, 8, 15, 24, 27], [7, 9, 10, 20, 25, 28], [13, 16, 17, 18, 22, 23]])\n",
            "Generacion # 80 Convergencia de la generacion:  28.892\n",
            "  Mejor solucion:  (27, [[0, 1, 11, 19, 21, 29], [2, 3, 4, 12, 14, 26], [5, 6, 8, 15, 24, 27], [7, 9, 10, 20, 25, 28], [13, 16, 17, 18, 22, 23]])\n",
            "Generacion # 90 Convergencia de la generacion:  28.85\n",
            "  Mejor solucion:  (27, [[0, 1, 11, 19, 21, 29], [2, 3, 4, 12, 14, 26], [5, 6, 8, 15, 24, 27], [7, 9, 10, 20, 25, 28], [13, 16, 17, 18, 22, 23]])\n",
            "Generacion # 99 Convergencia de la generacion:  28.842\n",
            "  Mejor solucion:  (27, [[0, 1, 11, 19, 21, 29], [2, 3, 4, 12, 14, 26], [5, 6, 8, 15, 24, 27], [7, 9, 10, 20, 25, 28], [13, 16, 17, 18, 22, 23]])\n"
          ]
        }
      ],
      "source": [
        "poblacion_final = algoritmo_genetico(problema,tam_poblacion=500,generaciones=100,elitismo=0.7,mutacion=0.8,generacion_print=10)"
      ]
    },
    {
      "cell_type": "markdown",
      "metadata": {
        "id": "Jkx8GeiYlUz1"
      },
      "source": [
        "### Posibles mejoras"
      ]
    },
    {
      "attachments": {},
      "cell_type": "markdown",
      "metadata": {},
      "source": [
        "**Multiarranque**\n",
        "\n",
        "Una posible mejora para obtener mejores soluciones seria utilizar la técnica de multiarranque y guardar la mejor solución:"
      ]
    },
    {
      "cell_type": "code",
      "execution_count": null,
      "metadata": {},
      "outputs": [],
      "source": [
        "print \"Error no ejecutar\"\n",
        "\n",
        "mejor_individuo = (100,[])\n",
        "n_arranques = 100\n",
        "for i in range(n_arranques):\n",
        "    print(\"##################################################################\")\n",
        "    print(\"Arranque #\", i)\n",
        "    individuo = algoritmo_genetico(problema,tam_poblacion=2000,generaciones=100,elitismo=0.7,mutacion=0.8)\n",
        "\n",
        "    if individuo[0] < mejor_individuo[0]:\n",
        "        mejor_individuo = individuo\n",
        "\n",
        "print(\"##################################################################\")\n",
        "print(\"##################################################################\")\n",
        "print(mejor_individuo)"
      ]
    },
    {
      "attachments": {},
      "cell_type": "markdown",
      "metadata": {},
      "source": [
        "**Busqueda local**"
      ]
    },
    {
      "cell_type": "code",
      "execution_count": 34,
      "metadata": {},
      "outputs": [],
      "source": [
        "def busqueda_local(poblacion,mejor_coste,problema):\n",
        "    poblacion_completa = deepcopy(poblacion)\n",
        "    for individuo in poblacion:\n",
        "        cromosomas = deepcopy(individuo[1])\n",
        "        for i in range(4):\n",
        "            for j in range(6):\n",
        "                for k in range(i+1,5):\n",
        "                    for l in range(6):\n",
        "                        cromosomas[i][j],cromosomas[k][l] = cromosomas[k][l],cromosomas[i][j]\n",
        "                        apt = aptitud(cromosomas,problema)\n",
        "                        if apt < mejor_coste:\n",
        "                            print((apt,cromosomas))\n",
        "                            poblacion_completa.append((apt,cromosomas))\n",
        "                        cromosomas = deepcopy(individuo[1])\n",
        "\n",
        "    return poblacion_completa"
      ]
    },
    {
      "cell_type": "code",
      "execution_count": 49,
      "metadata": {},
      "outputs": [],
      "source": [
        "poblacion_busqueda_local = busqueda_local(poblacion_final,poblacion_final[0][0],problema)"
      ]
    }
  ],
  "metadata": {
    "colab": {
      "provenance": []
    },
    "kernelspec": {
      "display_name": "miar_env",
      "language": "python",
      "name": "python3"
    },
    "language_info": {
      "codemirror_mode": {
        "name": "ipython",
        "version": 3
      },
      "file_extension": ".py",
      "mimetype": "text/x-python",
      "name": "python",
      "nbconvert_exporter": "python",
      "pygments_lexer": "ipython3",
      "version": "3.10.8"
    },
    "vscode": {
      "interpreter": {
        "hash": "9fb6ea41b4247adaaa6e39f15474b3cb217a939b7a8bc00f9ca32c833d0438af"
      }
    }
  },
  "nbformat": 4,
  "nbformat_minor": 0
}
