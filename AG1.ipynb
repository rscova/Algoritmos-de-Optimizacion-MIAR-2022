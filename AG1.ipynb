{
 "cells": [
  {
   "attachments": {},
   "cell_type": "markdown",
   "metadata": {},
   "source": [
    "# Actividad Guiada 1 de Algoritmos de Optimizacion\n",
    "\n",
    "Nombre: Roberto Saul Cova Rocamora <br>\n",
    "[enlace google colab] <br>\n",
    "[enlace github]"
   ]
  },
  {
   "attachments": {},
   "cell_type": "markdown",
   "metadata": {},
   "source": [
    "## Divide y vencerás\n",
    "### Problema 1: Torres de Hanoi"
   ]
  },
  {
   "cell_type": "code",
   "execution_count": 1,
   "metadata": {},
   "outputs": [
    {
     "name": "stdout",
     "output_type": "stream",
     "text": [
      "Mueve la ficha desde la torre 1 hasta la torre 3\n",
      "Mueve la ficha desde la torre 1 hasta la torre 2\n",
      "Mueve la ficha desde la torre 3 hasta la torre 2\n",
      "Mueve la ficha desde la torre 1 hasta la torre 3\n",
      "Mueve la ficha desde la torre 2 hasta la torre 1\n",
      "Mueve la ficha desde la torre 2 hasta la torre 3\n",
      "Mueve la ficha desde la torre 1 hasta la torre 3\n"
     ]
    }
   ],
   "source": [
    "def torres_hanoi(N, desde, hasta):\n",
    "    \"\"\"\n",
    "    Funcion recursiva que resuelve el problema de las Torres de Hanoi\n",
    "\n",
    "    En este problema, siempre se tiene una torre de pivote.\n",
    "    Si desde=1 y hasta=3 : pivote=2\n",
    "    Si desde=2 y hasta=1 : pivote=3\n",
    "    Si desde=3 y hasta=2 : pivote=1\n",
    "    Etc.\n",
    "\n",
    "    :param N: numero de fichas\n",
    "    :param desde: numero del poste desde\n",
    "    :param hasta: numero del poste hasta\n",
    "    :returns: None \n",
    "    \"\"\"\n",
    "\n",
    "    if (N == 1):\n",
    "        print(f\"Mueve la ficha desde la torre {desde} hasta la torre {hasta}\") # Operaciones = 1\n",
    "    else:\n",
    "        torres_hanoi(N-1,desde,6-desde-hasta)  # Operacioenes =  T(N-1)\n",
    "        print(f\"Mueve la ficha desde la torre {desde} hasta la torre {hasta}\") # Operaciones = 1\n",
    "        torres_hanoi(N-1,6-desde-hasta,hasta) # Operacioenes =  T(N-1)\n",
    "\n",
    "torres_hanoi(3,1,3)"
   ]
  },
  {
   "attachments": {},
   "cell_type": "markdown",
   "metadata": {},
   "source": [
    "**Operaciones:**\n",
    "<br> Para N tendríamos T(N) \n",
    "<br>T(N) = T(N-1) + 1 + T(N-1) = 1 + 2·T(N-1)\n",
    "<br>Desarrollando la igualdad sabiendo que T(N-1) =  1 + 2·T(N-2)\n",
    "<br>Tenemos una serie geometrica\n",
    "<br>T(N) = 1 + 2·(1 + 2·T(N-2)) = 1 + 2·(1 + 2·(1 + 2·T(N-3))) = 2^n - 1\n",
    "\n",
    "**Complejidad:**\n",
    "<br>O(2^n)"
   ]
  },
  {
   "attachments": {},
   "cell_type": "markdown",
   "metadata": {},
   "source": [
    "## Voraz\n",
    "### Problema 2: Cambio de monedas"
   ]
  },
  {
   "cell_type": "code",
   "execution_count": 25,
   "metadata": {},
   "outputs": [
    {
     "data": {
      "text/plain": [
       "[1, 0, 4]"
      ]
     },
     "execution_count": 25,
     "metadata": {},
     "output_type": "execute_result"
    }
   ],
   "source": [
    "def cambio_monedas(cantidad=0,sistema=[50,20,10,5,2,1]):\n",
    "    \"\"\"\n",
    "    Funcion que implementa técnicas voraces para calcular las monedas necesarias para dar el cambio\n",
    "\n",
    "    :param cantidad: cantidad a devolver\n",
    "    :param sistema: monedas posibles a devolver\n",
    "    :returns: list -- lista con las monedas a devolver \n",
    "    \"\"\"\n",
    "    cambio = [0]*len(sistema)\n",
    "\n",
    "    for i,valor in enumerate(sistema):\n",
    "        monedas = cantidad//valor\n",
    "        cambio[i] = monedas\n",
    "        cantidad -= monedas*valor\n",
    "\n",
    "        if cantidad == 0:\n",
    "            return cambio\n",
    "\n",
    "    print(\"No es posible encontrar solucion\") \n",
    "\n",
    "cambio_monedas(15,[11,5,1])"
   ]
  },
  {
   "attachments": {},
   "cell_type": "markdown",
   "metadata": {},
   "source": [
    "## Vuelta atrás\n",
    "### Problema 3: N-reinas"
   ]
  },
  {
   "cell_type": "code",
   "execution_count": 41,
   "metadata": {},
   "outputs": [
    {
     "name": "stdout",
     "output_type": "stream",
     "text": [
      "[1, 3, 5, 2, 4]\n",
      "[1, 4, 2, 5, 3]\n",
      "[2, 4, 1, 3, 5]\n",
      "[2, 5, 3, 1, 4]\n",
      "[3, 1, 4, 2, 5]\n",
      "[3, 5, 2, 4, 1]\n",
      "[4, 1, 3, 5, 2]\n",
      "[4, 2, 5, 3, 1]\n",
      "[5, 2, 4, 1, 3]\n",
      "[5, 3, 1, 4, 2]\n",
      "\n",
      " -  -  X  -  - \n",
      " -  -  -  -  X \n",
      " -  X  -  -  - \n",
      " -  -  -  X  - \n",
      " X  -  -  -  - "
     ]
    }
   ],
   "source": [
    "def es_prometedora(solucion,etapa):\n",
    "  \"\"\"\n",
    "  Verifica que en la solución parcial no hay amenzas entre reinas\n",
    "\n",
    "  :param solucion: solucion actual del problema\n",
    "  :param etapa: altura del arbol\n",
    "  :returns: bool -- True si la solucion es valida\n",
    "  \"\"\"\n",
    "  # Verifica las filas\n",
    "  for i in range(etapa+1):\n",
    "    if solucion.count(solucion[i]) > 1:       \n",
    "      return False\n",
    "    # Verifica las diagonales\n",
    "    for j in range(i+1, etapa +1 ):\n",
    "      if abs(i-j) == abs(solucion[i]-solucion[j]) : \n",
    "        return False\n",
    "  return True\n",
    "\n",
    "def escribe_solucion(s):\n",
    "  '''\n",
    "  Traduce la solución al tablero\n",
    "\n",
    "  :param s: solucion al problema\n",
    "  '''\n",
    "  n = len(s)\n",
    "  for x in range(n):\n",
    "    print(\"\")  # salto de linea\n",
    "    for i in range(n):\n",
    "      if s[i] == x+1:\n",
    "        print(\" X \" , end=\"\")\n",
    "      else:\n",
    "        print(\" - \", end=\"\")\n",
    "\n",
    "\n",
    "def reinas(n_reinas, solucion=[],etapa=0): \n",
    "  \"\"\"\n",
    "  Funcion recursiva que calcula la solucion al problema de las N reinas usando vuelta atrás.\n",
    "  N reinas tienen que estar en un tablero de ajedrez de NxN sin atacarse.\n",
    "\n",
    "  :param n_reinas: numero de reinas en el tablero.\n",
    "  :param solucion: solucion actual. \n",
    "      Vector fila donde cada columna corresponde a la fila donde esta la reina\n",
    "  :param etapa: altura del arbol, permite volver a atras. \n",
    "  \"\"\"\n",
    "  if len(solucion) == 0:         \n",
    "    solucion = [0] * n_reinas    # [0,0,0...]\n",
    "  \n",
    "  for i in range(1, n_reinas+1):\n",
    "    solucion[etapa] = i\n",
    "    if es_prometedora(solucion, etapa):\n",
    "      if etapa == n_reinas-1:\n",
    "        print(solucion)\n",
    "      else:  \n",
    "        reinas(n_reinas, solucion, etapa+1)\n",
    "  \n",
    "  solucion[etapa] = 0\n",
    "\n",
    "reinas(5,solucion=[],etapa=0)\n",
    "escribe_solucion([5, 3, 1, 4, 2])"
   ]
  },
  {
   "attachments": {},
   "cell_type": "markdown",
   "metadata": {},
   "source": [
    "### Encontrar los dos puntos más cercanos"
   ]
  },
  {
   "cell_type": "code",
   "execution_count": 18,
   "metadata": {},
   "outputs": [],
   "source": [
    "from math import sqrt\n",
    "import random\n",
    "\n",
    "def distancia(p1,p2) -> float:\n",
    "    \"\"\"\n",
    "    Funcion que recibe dos puntos y devuelve su distancia euclidiana\n",
    "\n",
    "    :param p1: punto 1\n",
    "    :param p2: punto 2\n",
    "    :returns: float -- distancia euclidea \n",
    "    \"\"\"\n",
    "    if type(p1) == int or type(p1) == float:\n",
    "        # Calcular la distancia euclidiana entre dos puntos 1D\n",
    "        return abs(p2 - p1)\n",
    "    elif len(p1) == 2:\n",
    "        # Calcular la distancia euclidiana entre dos puntos 2D\n",
    "        return sqrt((p2[0]-p1[0])**2 + (p2[1]-p1[1])**2)\n",
    "    elif len(p1) == 3:\n",
    "        # Calcular la distancia euclidiana entre dos puntos 3D\n",
    "        return sqrt((p2[0]-p1[0])**2 + (p2[1]-p1[1])**2 + (p2[2]-p1[2])**2)\n",
    "    else:\n",
    "        return 0"
   ]
  },
  {
   "attachments": {},
   "cell_type": "markdown",
   "metadata": {},
   "source": [
    "**1D - Fuerza bruta**\n",
    "\n",
    "Complejidad: O(n^2)"
   ]
  },
  {
   "cell_type": "code",
   "execution_count": 30,
   "metadata": {},
   "outputs": [],
   "source": [
    "def distancia_puntos_1D_fuerza_bruta(puntos: list) -> tuple:\n",
    "    # Si hay menos de 2 puntos, no se puede calcular la distancia más cercana\n",
    "    if len(puntos) < 2:\n",
    "        return float('inf')\n",
    "    # Si hay solo dos puntos, devolver la distancia entre ellos\n",
    "    elif len(puntos) == 2:\n",
    "        return puntos[0],puntos[1],distancia(puntos[0],puntos[1])\n",
    "    else:\n",
    "        # Inicializar la distancia mínima\n",
    "        distancia_minima = distancia(puntos[0],puntos[1])\n",
    "\n",
    "        # Recorrer todos los puntos para buscar su distancia minima\n",
    "        for i,p1 in enumerate(puntos):\n",
    "            for p2 in puntos[i+1:]:\n",
    "                dist = distancia(p1,p2)\n",
    "                if dist < distancia_minima:\n",
    "                    distancia_minima = dist\n",
    "\n",
    "        # Devolver  los puntos y la distancia más cercana\n",
    "        return distancia_minima\n"
   ]
  },
  {
   "attachments": {},
   "cell_type": "markdown",
   "metadata": {},
   "source": [
    "**1D - Ordenacion**\n",
    "\n",
    "Sorted():Timesort python -> O(nlog(n)) <br>\n",
    "Bucle: O(n)<br>\n",
    "T(n) = T(nlog(n)) + T(n)<br>\n",
    "Complejidad O(nlog(n))<br>"
   ]
  },
  {
   "cell_type": "code",
   "execution_count": 50,
   "metadata": {},
   "outputs": [],
   "source": [
    "def distancia_puntos_1D_sorted(puntos: list) -> tuple:\n",
    "    # Si hay menos de 2 puntos, no se puede calcular la distancia más cercana\n",
    "    if len(puntos) < 2:\n",
    "        return float('inf')\n",
    "    # Si hay solo dos puntos, devolver la distancia entre ellos\n",
    "    elif len(puntos) == 2:\n",
    "        return puntos[0],puntos[1],distancia(puntos[0],puntos[1])\n",
    "    else:\n",
    "        # Ordenación de los puntos\n",
    "        puntos = sorted(puntos)\n",
    "\n",
    "         # Inicializar la distancia mínima\n",
    "        distancia_minima = distancia(puntos[0],puntos[1])\n",
    "\n",
    "        # Al estar ordenados, puntos el bucle y comparar con su imediato mayor en la lista\n",
    "        for i in range(len(puntos)-1):\n",
    "            dist = distancia(puntos[i],puntos[i+1])\n",
    "            if dist < distancia_minima:\n",
    "                distancia_minima = dist\n",
    "\n",
    "        # Devolver  los puntos y la distancia más cercana\n",
    "        return distancia_minima"
   ]
  },
  {
   "attachments": {},
   "cell_type": "markdown",
   "metadata": {},
   "source": [
    "**1D - Divide y Venceras**\n",
    "\n",
    "Complejidad: O(n log n)"
   ]
  },
  {
   "cell_type": "code",
   "execution_count": 32,
   "metadata": {},
   "outputs": [],
   "source": [
    "def distancia_cercana_1D_divide_venceras(puntos):\n",
    "    # Si hay menos de 2 puntos, no se puede calcular la distancia más cercana\n",
    "    if len(puntos) < 2:\n",
    "        return float('inf')\n",
    "    \n",
    "    # Si hay solo dos puntos, devolver la distancia entre ellos\n",
    "    if len(puntos) == 2:\n",
    "        return distancia(puntos[0], puntos[1])\n",
    "    \n",
    "    else:\n",
    "        # Ordenar los puntos por su coordenada x\n",
    "        puntos = sorted(puntos)\n",
    "        \n",
    "        # Dividir la lista de puntos en dos partes iguales\n",
    "        mitad = len(puntos) // 2\n",
    "        izquierda = puntos[:mitad]\n",
    "        derecha = puntos[mitad:]\n",
    "        \n",
    "        # Recursivamente calcular la distancia más cercana en cada mitad\n",
    "        distancia_izquierda = distancia_cercana_1D_divide_venceras(izquierda)\n",
    "        distancia_derecha = distancia_cercana_1D_divide_venceras(derecha)\n",
    "        \n",
    "        # Encontrar la distancia más corta entre ambas mitades\n",
    "        distancia_minima = min(distancia_izquierda, distancia_derecha)\n",
    "        \n",
    "        # Encontrar los puntos más cercanos a la línea de separación\n",
    "        puntos_medios = [punto for punto in puntos \n",
    "                        if abs(punto - puntos[mitad]) < distancia_minima]\n",
    "        \n",
    "        # Ordenar los puntos medios por su coordenada y\n",
    "        puntos_medios = sorted(puntos_medios)\n",
    "        \n",
    "        # Comprobar si hay alguna pareja de puntos cercanos a la línea de separación\n",
    "        for i in range(len(puntos_medios)):\n",
    "            for j in range(i+1, len(puntos_medios)):\n",
    "                if puntos_medios[j] - puntos_medios[i] > distancia_minima:\n",
    "                    break\n",
    "                d = distancia(puntos_medios[i], puntos_medios[j])\n",
    "                distancia_minima = min(distancia_minima, d)\n",
    "        \n",
    "        # Devolver la distancia más cercana entre los puntos\n",
    "        return distancia_minima"
   ]
  },
  {
   "cell_type": "code",
   "execution_count": 51,
   "metadata": {},
   "outputs": [
    {
     "name": "stdout",
     "output_type": "stream",
     "text": [
      "0\n",
      "0\n",
      "0\n",
      "79.2 ms ± 3.41 ms per loop (mean ± std. dev. of 7 runs, 10 loops each)\n",
      "The slowest run took 9.49 times longer than the fastest. This could mean that an intermediate result is being cached.\n",
      "528 µs ± 702 µs per loop (mean ± std. dev. of 7 runs, 1,000 loops each)\n",
      "1.7 ms ± 45 µs per loop (mean ± std. dev. of 7 runs, 1,000 loops each)\n"
     ]
    }
   ],
   "source": [
    "points = [random.randrange(1,10000) for x in range(1000)]\n",
    "#points = [round(random.uniform(1, 10_000),2) for x in range(1_000)]\n",
    "\n",
    "print(distancia_puntos_1D_fuerza_bruta(points))\n",
    "print(distancia_puntos_1D_sorted(points))\n",
    "print(distancia_cercana_1D_divide_venceras(points))\n",
    "\n",
    "%timeit distancia_puntos_1D_fuerza_bruta(points)\n",
    "%timeit distancia_puntos_1D_sorted(points)\n",
    "%timeit distancia_cercana_1D_divide_venceras(points)"
   ]
  },
  {
   "attachments": {},
   "cell_type": "markdown",
   "metadata": {},
   "source": [
    "**2D - Divide y Venceras**"
   ]
  },
  {
   "cell_type": "code",
   "execution_count": 43,
   "metadata": {},
   "outputs": [],
   "source": [
    "def distancia_cercana_2D_divide_venceras(puntos:list) -> float:\n",
    "    # Si hay menos de 2 puntos, no se puede calcular la distancia más cercana\n",
    "    if len(puntos) < 2:\n",
    "        return float('inf')\n",
    "    \n",
    "    # Si hay solo dos puntos, devolver la distancia entre ellos\n",
    "    if len(puntos) == 2:\n",
    "        return distancia(puntos[0], puntos[1])\n",
    "    \n",
    "    # Ordenar los puntos por su coordenada x\n",
    "    puntos = sorted(puntos, key=lambda x: x[0])\n",
    "    \n",
    "    # Dividir la lista de puntos en dos partes iguales\n",
    "    mitad = len(puntos) // 2\n",
    "    izquierda = puntos[:mitad]\n",
    "    derecha = puntos[mitad:]\n",
    "    \n",
    "    # Recursivamente calcular la distancia más cercana en cada mitad\n",
    "    distancia_izquierda = distancia_cercana_2D_divide_venceras(izquierda)\n",
    "    distancia_derecha = distancia_cercana_2D_divide_venceras(derecha)\n",
    "    \n",
    "    # Encontrar la distancia más corta entre ambas mitades\n",
    "    distancia_minima = min(distancia_izquierda, distancia_derecha)\n",
    "    \n",
    "    # Encontrar los puntos más cercanos a la línea de separación\n",
    "    puntos_medios = [punto for punto in puntos \n",
    "                     if abs(punto[0] - puntos[mitad][0]) < distancia_minima]\n",
    "    \n",
    "    # Ordenar los puntos medios por su coordenada y\n",
    "    puntos_medios = sorted(puntos_medios, key=lambda x: x[1])\n",
    "    \n",
    "    # Comprobar si hay alguna pareja de puntos cercanos a la línea de separación\n",
    "    for i in range(len(puntos_medios)):\n",
    "        for j in range(i+1, len(puntos_medios)):\n",
    "            if puntos_medios[j][1] - puntos_medios[i][1] > distancia_minima:\n",
    "                break\n",
    "            d = distancia(puntos_medios[i], puntos_medios[j])\n",
    "            distancia_minima = min(distancia_minima, d)\n",
    "    \n",
    "    # Devolver la distancia más cercana entre los puntos\n",
    "    return distancia_minima"
   ]
  },
  {
   "cell_type": "code",
   "execution_count": 45,
   "metadata": {},
   "outputs": [
    {
     "data": {
      "text/plain": [
       "9.899494936611665"
      ]
     },
     "execution_count": 45,
     "metadata": {},
     "output_type": "execute_result"
    }
   ],
   "source": [
    "points = [(random.randrange(1,10000),random.randrange(1,10000)) for x in range(1000)]\n",
    "\n",
    "distancia_cercana_2D_divide_venceras(points)"
   ]
  },
  {
   "attachments": {},
   "cell_type": "markdown",
   "metadata": {},
   "source": [
    "**3D - Divide y Venceras**"
   ]
  },
  {
   "cell_type": "code",
   "execution_count": 47,
   "metadata": {},
   "outputs": [],
   "source": [
    "def distancia_cercana_3D_divide_venceras(puntos):\n",
    "    # Si hay menos de 2 puntos, no se puede calcular la distancia más cercana\n",
    "    if len(puntos) < 2:\n",
    "        return float('inf')\n",
    "    \n",
    "    # Si hay solo dos puntos, devolver la distancia entre ellos\n",
    "    if len(puntos) == 2:\n",
    "        return distancia(puntos[0], puntos[1])\n",
    "    \n",
    "    # Ordenar los puntos por su coordenada x\n",
    "    puntos = sorted(puntos, key=lambda x: x[0])\n",
    "    \n",
    "    # Dividir la lista de puntos en dos partes iguales\n",
    "    mitad = len(puntos) // 2\n",
    "    izquierda = puntos[:mitad]\n",
    "    derecha = puntos[mitad:]\n",
    "    \n",
    "    # Recursivamente calcular la distancia más cercana en cada mitad\n",
    "    distancia_izquierda = distancia_cercana_3D_divide_venceras(izquierda)\n",
    "    distancia_derecha = distancia_cercana_3D_divide_venceras(derecha)\n",
    "    \n",
    "    # Encontrar la distancia más corta entre ambas mitades\n",
    "    distancia_minima = min(distancia_izquierda, distancia_derecha)\n",
    "    \n",
    "    # Encontrar los puntos más cercanos a la línea de separación\n",
    "    puntos_medios = [punto for punto in puntos \n",
    "                     if abs(punto[0] - puntos[mitad][0]) < distancia_minima]\n",
    "    \n",
    "    # Ordenar los puntos medios por su coordenada y\n",
    "    puntos_medios = sorted(puntos_medios, key=lambda x: x[1])\n",
    "    \n",
    "    # Comprobar si hay alguna pareja de puntos cercanos a la línea de separación\n",
    "    for i in range(len(puntos_medios)):\n",
    "        for j in range(i+1, len(puntos_medios)):\n",
    "            if puntos_medios[j][1] - puntos_medios[i][1] > distancia_minima:\n",
    "                break\n",
    "            d = distancia(puntos_medios[i], puntos_medios[j])\n",
    "            distancia_minima = min(distancia_minima, d)\n",
    "    \n",
    "    # Devolver la distancia más cercana entre los puntos\n",
    "    return distancia_minima"
   ]
  },
  {
   "cell_type": "code",
   "execution_count": 49,
   "metadata": {},
   "outputs": [
    {
     "data": {
      "text/plain": [
       "79.21489758877429"
      ]
     },
     "execution_count": 49,
     "metadata": {},
     "output_type": "execute_result"
    }
   ],
   "source": [
    "points = [(random.randrange(1,10000),random.randrange(1,10000),random.randrange(1,10000)) for x in range(1000)]\n",
    "\n",
    "distancia_cercana_3D_divide_venceras(points)"
   ]
  }
 ],
 "metadata": {
  "kernelspec": {
   "display_name": "miar_env",
   "language": "python",
   "name": "python3"
  },
  "language_info": {
   "codemirror_mode": {
    "name": "ipython",
    "version": 3
   },
   "file_extension": ".py",
   "mimetype": "text/x-python",
   "name": "python",
   "nbconvert_exporter": "python",
   "pygments_lexer": "ipython3",
   "version": "3.10.8"
  },
  "orig_nbformat": 4,
  "vscode": {
   "interpreter": {
    "hash": "9fb6ea41b4247adaaa6e39f15474b3cb217a939b7a8bc00f9ca32c833d0438af"
   }
  }
 },
 "nbformat": 4,
 "nbformat_minor": 2
}
